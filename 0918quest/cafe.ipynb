{
 "cells": [
  {
   "cell_type": "markdown",
   "id": "05b31aeb",
   "metadata": {},
   "source": [
    "# 모두 카페"
   ]
  },
  {
   "cell_type": "code",
   "execution_count": 1,
   "id": "624cd7ec",
   "metadata": {},
   "outputs": [],
   "source": [
    "# 필요한 라이브러리 호출하기 및 데이터 로드\n",
    "import pandas as pd\n",
    "import numpy as np\n",
    "import matplotlib.pyplot as plt\n",
    "import seaborn as sns"
   ]
  },
  {
   "cell_type": "code",
   "execution_count": 2,
   "id": "aa864f84",
   "metadata": {},
   "outputs": [],
   "source": [
    "# 스타일 기본 설정\n",
    "plt.style.use('default')\n",
    "plt.rcParams['font.family'] = 'NanumGothic' "
   ]
  },
  {
   "cell_type": "code",
   "execution_count": 3,
   "id": "6388a8c2",
   "metadata": {},
   "outputs": [],
   "source": [
    "# 데이터 호출하기\n",
    "entry_data = pd.read_csv('/aiffel/data/entry_data.csv')\n",
    "sales_data = pd.read_csv('/aiffel/data/sales_data.csv')\n",
    "item_data = pd.read_csv('/aiffel/data/item_data.csv')\n",
    "item_entry_data = pd.read_csv('/aiffel/data/item_entry_data.csv')"
   ]
  },
  {
   "cell_type": "markdown",
   "id": "db06e418",
   "metadata": {},
   "source": [
    "## 데이터 정보 확인"
   ]
  },
  {
   "cell_type": "code",
   "execution_count": 4,
   "id": "65c49964",
   "metadata": {},
   "outputs": [
    {
     "data": {
      "text/html": [
       "<div>\n",
       "<style scoped>\n",
       "    .dataframe tbody tr th:only-of-type {\n",
       "        vertical-align: middle;\n",
       "    }\n",
       "\n",
       "    .dataframe tbody tr th {\n",
       "        vertical-align: top;\n",
       "    }\n",
       "\n",
       "    .dataframe thead th {\n",
       "        text-align: right;\n",
       "    }\n",
       "</style>\n",
       "<table border=\"1\" class=\"dataframe\">\n",
       "  <thead>\n",
       "    <tr style=\"text-align: right;\">\n",
       "      <th></th>\n",
       "      <th>요금제명</th>\n",
       "      <th>입실</th>\n",
       "      <th>퇴실</th>\n",
       "      <th>이용</th>\n",
       "      <th>위치</th>\n",
       "      <th>금액</th>\n",
       "      <th>구분</th>\n",
       "      <th>고객</th>\n",
       "    </tr>\n",
       "  </thead>\n",
       "  <tbody>\n",
       "    <tr>\n",
       "      <th>0</th>\n",
       "      <td>시간요금제(1시간)</td>\n",
       "      <td>2022-04-01 23:39</td>\n",
       "      <td>2022-04-02 0:39</td>\n",
       "      <td>오전 1:00:00</td>\n",
       "      <td>선불기2</td>\n",
       "      <td>3000</td>\n",
       "      <td>퇴실</td>\n",
       "      <td>customer263717</td>\n",
       "    </tr>\n",
       "    <tr>\n",
       "      <th>1</th>\n",
       "      <td>시간요금제(1시간)</td>\n",
       "      <td>2022-04-01 23:39</td>\n",
       "      <td>2022-04-02 0:39</td>\n",
       "      <td>오전 1:00:00</td>\n",
       "      <td>선불기2</td>\n",
       "      <td>3000</td>\n",
       "      <td>퇴실</td>\n",
       "      <td>customer263717</td>\n",
       "    </tr>\n",
       "    <tr>\n",
       "      <th>2</th>\n",
       "      <td>무제한 입장권</td>\n",
       "      <td>2022-04-01 20:55</td>\n",
       "      <td>2022-04-01 21:41</td>\n",
       "      <td>오전 12:46:00</td>\n",
       "      <td>선불기2</td>\n",
       "      <td>7400</td>\n",
       "      <td>퇴실</td>\n",
       "      <td>customer247263</td>\n",
       "    </tr>\n",
       "    <tr>\n",
       "      <th>3</th>\n",
       "      <td>무제한 입장권</td>\n",
       "      <td>2022-04-01 20:55</td>\n",
       "      <td>2022-04-01 21:41</td>\n",
       "      <td>오전 12:46:00</td>\n",
       "      <td>선불기2</td>\n",
       "      <td>7400</td>\n",
       "      <td>퇴실</td>\n",
       "      <td>customer247263</td>\n",
       "    </tr>\n",
       "    <tr>\n",
       "      <th>4</th>\n",
       "      <td>한국대생 무제한 입장권</td>\n",
       "      <td>2022-04-01 19:54</td>\n",
       "      <td>2022-04-01 22:28</td>\n",
       "      <td>오전 2:33:00</td>\n",
       "      <td>선불기2</td>\n",
       "      <td>7400</td>\n",
       "      <td>퇴실</td>\n",
       "      <td>customer388928</td>\n",
       "    </tr>\n",
       "  </tbody>\n",
       "</table>\n",
       "</div>"
      ],
      "text/plain": [
       "           요금제명                입실                퇴실           이용    위치    금액  \\\n",
       "0    시간요금제(1시간)  2022-04-01 23:39   2022-04-02 0:39   오전 1:00:00  선불기2  3000   \n",
       "1    시간요금제(1시간)  2022-04-01 23:39   2022-04-02 0:39   오전 1:00:00  선불기2  3000   \n",
       "2       무제한 입장권  2022-04-01 20:55  2022-04-01 21:41  오전 12:46:00  선불기2  7400   \n",
       "3       무제한 입장권  2022-04-01 20:55  2022-04-01 21:41  오전 12:46:00  선불기2  7400   \n",
       "4  한국대생 무제한 입장권  2022-04-01 19:54  2022-04-01 22:28   오전 2:33:00  선불기2  7400   \n",
       "\n",
       "   구분              고객  \n",
       "0  퇴실  customer263717  \n",
       "1  퇴실  customer263717  \n",
       "2  퇴실  customer247263  \n",
       "3  퇴실  customer247263  \n",
       "4  퇴실  customer388928  "
      ]
     },
     "execution_count": 4,
     "metadata": {},
     "output_type": "execute_result"
    }
   ],
   "source": [
    "entry_data.head()"
   ]
  },
  {
   "cell_type": "code",
   "execution_count": 5,
   "id": "7af2e9a5",
   "metadata": {},
   "outputs": [
    {
     "data": {
      "text/html": [
       "<div>\n",
       "<style scoped>\n",
       "    .dataframe tbody tr th:only-of-type {\n",
       "        vertical-align: middle;\n",
       "    }\n",
       "\n",
       "    .dataframe tbody tr th {\n",
       "        vertical-align: top;\n",
       "    }\n",
       "\n",
       "    .dataframe thead th {\n",
       "        text-align: right;\n",
       "    }\n",
       "</style>\n",
       "<table border=\"1\" class=\"dataframe\">\n",
       "  <thead>\n",
       "    <tr style=\"text-align: right;\">\n",
       "      <th></th>\n",
       "      <th>결제일시</th>\n",
       "      <th>판매위치</th>\n",
       "      <th>상품명</th>\n",
       "      <th>결제방식</th>\n",
       "      <th>비고</th>\n",
       "      <th>판매수량</th>\n",
       "      <th>결제금액</th>\n",
       "      <th>고객</th>\n",
       "    </tr>\n",
       "  </thead>\n",
       "  <tbody>\n",
       "    <tr>\n",
       "      <th>0</th>\n",
       "      <td>2022-04-01 19:41</td>\n",
       "      <td>선불기1</td>\n",
       "      <td>치킨카라아케 6pc</td>\n",
       "      <td>신용카드</td>\n",
       "      <td>결제완료</td>\n",
       "      <td>1</td>\n",
       "      <td>4,500</td>\n",
       "      <td>customer275507</td>\n",
       "    </tr>\n",
       "    <tr>\n",
       "      <th>1</th>\n",
       "      <td>2022-04-01 19:41</td>\n",
       "      <td>선불기1</td>\n",
       "      <td>짜장라면(계란추가)</td>\n",
       "      <td>신용카드</td>\n",
       "      <td>결제완료</td>\n",
       "      <td>1</td>\n",
       "      <td>5,500</td>\n",
       "      <td>customer275507</td>\n",
       "    </tr>\n",
       "    <tr>\n",
       "      <th>2</th>\n",
       "      <td>2022-04-01 19:41</td>\n",
       "      <td>선불기1</td>\n",
       "      <td>라면</td>\n",
       "      <td>신용카드</td>\n",
       "      <td>결제완료</td>\n",
       "      <td>1</td>\n",
       "      <td>4,000</td>\n",
       "      <td>customer275507</td>\n",
       "    </tr>\n",
       "    <tr>\n",
       "      <th>3</th>\n",
       "      <td>2022-04-01 19:41</td>\n",
       "      <td>선불기1</td>\n",
       "      <td>비엔나소세지(토핑)</td>\n",
       "      <td>신용카드</td>\n",
       "      <td>결제완료</td>\n",
       "      <td>1</td>\n",
       "      <td>1,000</td>\n",
       "      <td>customer275507</td>\n",
       "    </tr>\n",
       "    <tr>\n",
       "      <th>4</th>\n",
       "      <td>2022-04-01 19:41</td>\n",
       "      <td>선불기1</td>\n",
       "      <td>라면(계란/치즈추가)</td>\n",
       "      <td>신용카드</td>\n",
       "      <td>결제완료</td>\n",
       "      <td>1</td>\n",
       "      <td>5,000</td>\n",
       "      <td>customer275507</td>\n",
       "    </tr>\n",
       "  </tbody>\n",
       "</table>\n",
       "</div>"
      ],
      "text/plain": [
       "               결제일시  판매위치          상품명  결제방식    비고  판매수량   결제금액  \\\n",
       "0  2022-04-01 19:41  선불기1   치킨카라아케 6pc  신용카드  결제완료     1  4,500   \n",
       "1  2022-04-01 19:41  선불기1   짜장라면(계란추가)  신용카드  결제완료     1  5,500   \n",
       "2  2022-04-01 19:41  선불기1           라면  신용카드  결제완료     1  4,000   \n",
       "3  2022-04-01 19:41  선불기1   비엔나소세지(토핑)  신용카드  결제완료     1  1,000   \n",
       "4  2022-04-01 19:41  선불기1  라면(계란/치즈추가)  신용카드  결제완료     1  5,000   \n",
       "\n",
       "               고객  \n",
       "0  customer275507  \n",
       "1  customer275507  \n",
       "2  customer275507  \n",
       "3  customer275507  \n",
       "4  customer275507  "
      ]
     },
     "execution_count": 5,
     "metadata": {},
     "output_type": "execute_result"
    }
   ],
   "source": [
    "sales_data.head()"
   ]
  },
  {
   "cell_type": "code",
   "execution_count": 6,
   "id": "473b8406",
   "metadata": {},
   "outputs": [
    {
     "data": {
      "text/html": [
       "<div>\n",
       "<style scoped>\n",
       "    .dataframe tbody tr th:only-of-type {\n",
       "        vertical-align: middle;\n",
       "    }\n",
       "\n",
       "    .dataframe tbody tr th {\n",
       "        vertical-align: top;\n",
       "    }\n",
       "\n",
       "    .dataframe thead th {\n",
       "        text-align: right;\n",
       "    }\n",
       "</style>\n",
       "<table border=\"1\" class=\"dataframe\">\n",
       "  <thead>\n",
       "    <tr style=\"text-align: right;\">\n",
       "      <th></th>\n",
       "      <th>구분</th>\n",
       "      <th>분류</th>\n",
       "      <th>상품명</th>\n",
       "      <th>판매금액</th>\n",
       "    </tr>\n",
       "  </thead>\n",
       "  <tbody>\n",
       "    <tr>\n",
       "      <th>0</th>\n",
       "      <td>1</td>\n",
       "      <td>게임&amp;TV</td>\n",
       "      <td>이어폰(커널형)</td>\n",
       "      <td>3,000원</td>\n",
       "    </tr>\n",
       "    <tr>\n",
       "      <th>1</th>\n",
       "      <td>2</td>\n",
       "      <td>디저트</td>\n",
       "      <td>초코머핀</td>\n",
       "      <td>3,500원</td>\n",
       "    </tr>\n",
       "    <tr>\n",
       "      <th>2</th>\n",
       "      <td>3</td>\n",
       "      <td>디저트</td>\n",
       "      <td>쿠키(초코칩)</td>\n",
       "      <td>1,500원</td>\n",
       "    </tr>\n",
       "    <tr>\n",
       "      <th>3</th>\n",
       "      <td>4</td>\n",
       "      <td>디저트</td>\n",
       "      <td>쿠키(마카다미아)</td>\n",
       "      <td>1,500원</td>\n",
       "    </tr>\n",
       "    <tr>\n",
       "      <th>4</th>\n",
       "      <td>5</td>\n",
       "      <td>디저트</td>\n",
       "      <td>미니마카롱(3개)</td>\n",
       "      <td>2,000원</td>\n",
       "    </tr>\n",
       "  </tbody>\n",
       "</table>\n",
       "</div>"
      ],
      "text/plain": [
       "   구분     분류        상품명    판매금액\n",
       "0   1  게임&TV   이어폰(커널형)  3,000원\n",
       "1   2    디저트       초코머핀  3,500원\n",
       "2   3    디저트    쿠키(초코칩)  1,500원\n",
       "3   4    디저트  쿠키(마카다미아)  1,500원\n",
       "4   5    디저트  미니마카롱(3개)  2,000원"
      ]
     },
     "execution_count": 6,
     "metadata": {},
     "output_type": "execute_result"
    }
   ],
   "source": [
    "item_data.head()"
   ]
  },
  {
   "cell_type": "code",
   "execution_count": 7,
   "id": "806622da",
   "metadata": {},
   "outputs": [
    {
     "data": {
      "text/html": [
       "<div>\n",
       "<style scoped>\n",
       "    .dataframe tbody tr th:only-of-type {\n",
       "        vertical-align: middle;\n",
       "    }\n",
       "\n",
       "    .dataframe tbody tr th {\n",
       "        vertical-align: top;\n",
       "    }\n",
       "\n",
       "    .dataframe thead th {\n",
       "        text-align: right;\n",
       "    }\n",
       "</style>\n",
       "<table border=\"1\" class=\"dataframe\">\n",
       "  <thead>\n",
       "    <tr style=\"text-align: right;\">\n",
       "      <th></th>\n",
       "      <th>순위</th>\n",
       "      <th>분류</th>\n",
       "      <th>상품명</th>\n",
       "      <th>판매금액</th>\n",
       "    </tr>\n",
       "  </thead>\n",
       "  <tbody>\n",
       "    <tr>\n",
       "      <th>0</th>\n",
       "      <td>1</td>\n",
       "      <td>한국대생</td>\n",
       "      <td>한국대생 요금제</td>\n",
       "      <td>2,000원</td>\n",
       "    </tr>\n",
       "    <tr>\n",
       "      <th>1</th>\n",
       "      <td>2</td>\n",
       "      <td>심야-조조</td>\n",
       "      <td>심야-조조 요금제</td>\n",
       "      <td>5,000원</td>\n",
       "    </tr>\n",
       "    <tr>\n",
       "      <th>2</th>\n",
       "      <td>3</td>\n",
       "      <td>일반인</td>\n",
       "      <td>일반요금제</td>\n",
       "      <td>2,500원</td>\n",
       "    </tr>\n",
       "    <tr>\n",
       "      <th>3</th>\n",
       "      <td>4</td>\n",
       "      <td>한국대생</td>\n",
       "      <td>한국대생 요금제</td>\n",
       "      <td>2,500원</td>\n",
       "    </tr>\n",
       "    <tr>\n",
       "      <th>4</th>\n",
       "      <td>5</td>\n",
       "      <td>일반인</td>\n",
       "      <td>일반요금제</td>\n",
       "      <td>2,000원</td>\n",
       "    </tr>\n",
       "  </tbody>\n",
       "</table>\n",
       "</div>"
      ],
      "text/plain": [
       "   순위     분류        상품명    판매금액\n",
       "0   1   한국대생   한국대생 요금제  2,000원\n",
       "1   2  심야-조조  심야-조조 요금제  5,000원\n",
       "2   3    일반인      일반요금제  2,500원\n",
       "3   4   한국대생   한국대생 요금제  2,500원\n",
       "4   5    일반인      일반요금제  2,000원"
      ]
     },
     "execution_count": 7,
     "metadata": {},
     "output_type": "execute_result"
    }
   ],
   "source": [
    "item_entry_data.head()"
   ]
  },
  {
   "cell_type": "markdown",
   "id": "ed4578a9",
   "metadata": {},
   "source": [
    "### 데이터 분석\n",
    "#### 필수 문제 1 : 월별 매출액 추세(sales_data사용)`"
   ]
  },
  {
   "cell_type": "code",
   "execution_count": 8,
   "id": "9907679f",
   "metadata": {},
   "outputs": [],
   "source": [
    "# 활용할 데이터(sales_data)를 temp_var로 정의하기\n",
    "temp_var = sales_data\n",
    "\n",
    "# 월별로 나누기 위해서 결제 일시를 월단위로 구분\n",
    "temp_var['date'] = sales_data['결제일시'].str[:7]\n",
    "# 결제금액을 숫자형으로 바꾸기 위하여 ,를 제거하고 numeric을 이용해서 변환\n",
    "temp_var['결제금액'] = pd.to_numeric(temp_var['결제금액'].str.replace(',', ''))"
   ]
  },
  {
   "cell_type": "code",
   "execution_count": 9,
   "id": "69601611",
   "metadata": {},
   "outputs": [
    {
     "data": {
      "text/html": [
       "<div>\n",
       "<style scoped>\n",
       "    .dataframe tbody tr th:only-of-type {\n",
       "        vertical-align: middle;\n",
       "    }\n",
       "\n",
       "    .dataframe tbody tr th {\n",
       "        vertical-align: top;\n",
       "    }\n",
       "\n",
       "    .dataframe thead th {\n",
       "        text-align: right;\n",
       "    }\n",
       "</style>\n",
       "<table border=\"1\" class=\"dataframe\">\n",
       "  <thead>\n",
       "    <tr style=\"text-align: right;\">\n",
       "      <th></th>\n",
       "      <th>결제일시</th>\n",
       "      <th>판매위치</th>\n",
       "      <th>상품명</th>\n",
       "      <th>결제방식</th>\n",
       "      <th>비고</th>\n",
       "      <th>판매수량</th>\n",
       "      <th>결제금액</th>\n",
       "      <th>고객</th>\n",
       "      <th>date</th>\n",
       "    </tr>\n",
       "  </thead>\n",
       "  <tbody>\n",
       "    <tr>\n",
       "      <th>0</th>\n",
       "      <td>2022-04-01 19:41</td>\n",
       "      <td>선불기1</td>\n",
       "      <td>치킨카라아케 6pc</td>\n",
       "      <td>신용카드</td>\n",
       "      <td>결제완료</td>\n",
       "      <td>1</td>\n",
       "      <td>4500</td>\n",
       "      <td>customer275507</td>\n",
       "      <td>2022-04</td>\n",
       "    </tr>\n",
       "    <tr>\n",
       "      <th>1</th>\n",
       "      <td>2022-04-01 19:41</td>\n",
       "      <td>선불기1</td>\n",
       "      <td>짜장라면(계란추가)</td>\n",
       "      <td>신용카드</td>\n",
       "      <td>결제완료</td>\n",
       "      <td>1</td>\n",
       "      <td>5500</td>\n",
       "      <td>customer275507</td>\n",
       "      <td>2022-04</td>\n",
       "    </tr>\n",
       "    <tr>\n",
       "      <th>2</th>\n",
       "      <td>2022-04-01 19:41</td>\n",
       "      <td>선불기1</td>\n",
       "      <td>라면</td>\n",
       "      <td>신용카드</td>\n",
       "      <td>결제완료</td>\n",
       "      <td>1</td>\n",
       "      <td>4000</td>\n",
       "      <td>customer275507</td>\n",
       "      <td>2022-04</td>\n",
       "    </tr>\n",
       "    <tr>\n",
       "      <th>3</th>\n",
       "      <td>2022-04-01 19:41</td>\n",
       "      <td>선불기1</td>\n",
       "      <td>비엔나소세지(토핑)</td>\n",
       "      <td>신용카드</td>\n",
       "      <td>결제완료</td>\n",
       "      <td>1</td>\n",
       "      <td>1000</td>\n",
       "      <td>customer275507</td>\n",
       "      <td>2022-04</td>\n",
       "    </tr>\n",
       "    <tr>\n",
       "      <th>4</th>\n",
       "      <td>2022-04-01 19:41</td>\n",
       "      <td>선불기1</td>\n",
       "      <td>라면(계란/치즈추가)</td>\n",
       "      <td>신용카드</td>\n",
       "      <td>결제완료</td>\n",
       "      <td>1</td>\n",
       "      <td>5000</td>\n",
       "      <td>customer275507</td>\n",
       "      <td>2022-04</td>\n",
       "    </tr>\n",
       "  </tbody>\n",
       "</table>\n",
       "</div>"
      ],
      "text/plain": [
       "               결제일시  판매위치          상품명  결제방식    비고  판매수량  결제금액  \\\n",
       "0  2022-04-01 19:41  선불기1   치킨카라아케 6pc  신용카드  결제완료     1  4500   \n",
       "1  2022-04-01 19:41  선불기1   짜장라면(계란추가)  신용카드  결제완료     1  5500   \n",
       "2  2022-04-01 19:41  선불기1           라면  신용카드  결제완료     1  4000   \n",
       "3  2022-04-01 19:41  선불기1   비엔나소세지(토핑)  신용카드  결제완료     1  1000   \n",
       "4  2022-04-01 19:41  선불기1  라면(계란/치즈추가)  신용카드  결제완료     1  5000   \n",
       "\n",
       "               고객     date  \n",
       "0  customer275507  2022-04  \n",
       "1  customer275507  2022-04  \n",
       "2  customer275507  2022-04  \n",
       "3  customer275507  2022-04  \n",
       "4  customer275507  2022-04  "
      ]
     },
     "execution_count": 9,
     "metadata": {},
     "output_type": "execute_result"
    }
   ],
   "source": [
    "temp_var.head()"
   ]
  },
  {
   "cell_type": "code",
   "execution_count": 10,
   "id": "a0e800c3",
   "metadata": {},
   "outputs": [
    {
     "data": {
      "text/html": [
       "<div>\n",
       "<style scoped>\n",
       "    .dataframe tbody tr th:only-of-type {\n",
       "        vertical-align: middle;\n",
       "    }\n",
       "\n",
       "    .dataframe tbody tr th {\n",
       "        vertical-align: top;\n",
       "    }\n",
       "\n",
       "    .dataframe thead th {\n",
       "        text-align: right;\n",
       "    }\n",
       "</style>\n",
       "<table border=\"1\" class=\"dataframe\">\n",
       "  <thead>\n",
       "    <tr style=\"text-align: right;\">\n",
       "      <th></th>\n",
       "      <th>결제금액</th>\n",
       "    </tr>\n",
       "    <tr>\n",
       "      <th>date</th>\n",
       "      <th></th>\n",
       "    </tr>\n",
       "  </thead>\n",
       "  <tbody>\n",
       "    <tr>\n",
       "      <th>2021-02</th>\n",
       "      <td>7000</td>\n",
       "    </tr>\n",
       "    <tr>\n",
       "      <th>2021-03</th>\n",
       "      <td>2104500</td>\n",
       "    </tr>\n",
       "    <tr>\n",
       "      <th>2021-04</th>\n",
       "      <td>3116600</td>\n",
       "    </tr>\n",
       "    <tr>\n",
       "      <th>2021-05</th>\n",
       "      <td>2537000</td>\n",
       "    </tr>\n",
       "    <tr>\n",
       "      <th>2021-06</th>\n",
       "      <td>3621500</td>\n",
       "    </tr>\n",
       "    <tr>\n",
       "      <th>2021-07</th>\n",
       "      <td>1215000</td>\n",
       "    </tr>\n",
       "    <tr>\n",
       "      <th>2021-08</th>\n",
       "      <td>1229000</td>\n",
       "    </tr>\n",
       "    <tr>\n",
       "      <th>2021-09</th>\n",
       "      <td>1197500</td>\n",
       "    </tr>\n",
       "    <tr>\n",
       "      <th>2021-10</th>\n",
       "      <td>2138500</td>\n",
       "    </tr>\n",
       "    <tr>\n",
       "      <th>2021-11</th>\n",
       "      <td>2748500</td>\n",
       "    </tr>\n",
       "    <tr>\n",
       "      <th>2021-12</th>\n",
       "      <td>3290000</td>\n",
       "    </tr>\n",
       "    <tr>\n",
       "      <th>2022-01</th>\n",
       "      <td>1430500</td>\n",
       "    </tr>\n",
       "    <tr>\n",
       "      <th>2022-02</th>\n",
       "      <td>1181500</td>\n",
       "    </tr>\n",
       "    <tr>\n",
       "      <th>2022-03</th>\n",
       "      <td>1870900</td>\n",
       "    </tr>\n",
       "    <tr>\n",
       "      <th>2022-04</th>\n",
       "      <td>49900</td>\n",
       "    </tr>\n",
       "  </tbody>\n",
       "</table>\n",
       "</div>"
      ],
      "text/plain": [
       "            결제금액\n",
       "date            \n",
       "2021-02     7000\n",
       "2021-03  2104500\n",
       "2021-04  3116600\n",
       "2021-05  2537000\n",
       "2021-06  3621500\n",
       "2021-07  1215000\n",
       "2021-08  1229000\n",
       "2021-09  1197500\n",
       "2021-10  2138500\n",
       "2021-11  2748500\n",
       "2021-12  3290000\n",
       "2022-01  1430500\n",
       "2022-02  1181500\n",
       "2022-03  1870900\n",
       "2022-04    49900"
      ]
     },
     "execution_count": 10,
     "metadata": {},
     "output_type": "execute_result"
    }
   ],
   "source": [
    "### 월별로 결제금액을 집계 월별을 기준으로 결제금액의 합계로 group\n",
    "payment_data =temp_var.groupby(['date']).agg({'결제금액': 'sum'})\n",
    "payment_data"
   ]
  },
  {
   "cell_type": "markdown",
   "id": "e832ff96",
   "metadata": {},
   "source": [
    "### 월 매출 추세 ##"
   ]
  },
  {
   "cell_type": "code",
   "execution_count": 11,
   "id": "cb7e86aa",
   "metadata": {},
   "outputs": [
    {
     "data": {
      "image/png": "[encoded data removed]",
      "text/plain": [
       "<Figure size 500x500 with 1 Axes>"
      ]
     },
     "metadata": {},
     "output_type": "display_data"
    }
   ],
   "source": [
    "# 집계 결과를 시각화하기\n",
    "plt.figure(figsize=(5,5))\n",
    "ax = sns.barplot(data=payment_data,x=payment_data.index, y ='결제금액')\n",
    "containers = ax.containers[0]\n",
    "#각 바에 대한 라벨 설정\n",
    "ax.bar_label(containers, labels=[f'{x:,.0f}' for x in containers.datavalues], label_type='center', rotation=90)\n",
    "## x축이 가로로 되어있으면 가독성이 떨어지기에 세로로 출력\n",
    "plt.xticks(rotation=90) \n",
    "plt.show()"
   ]
  },
  {
   "cell_type": "code",
   "execution_count": 12,
   "id": "894aa80b",
   "metadata": {},
   "outputs": [
    {
     "data": {
      "text/html": [
       "<div>\n",
       "<style scoped>\n",
       "    .dataframe tbody tr th:only-of-type {\n",
       "        vertical-align: middle;\n",
       "    }\n",
       "\n",
       "    .dataframe tbody tr th {\n",
       "        vertical-align: top;\n",
       "    }\n",
       "\n",
       "    .dataframe thead th {\n",
       "        text-align: right;\n",
       "    }\n",
       "</style>\n",
       "<table border=\"1\" class=\"dataframe\">\n",
       "  <thead>\n",
       "    <tr style=\"text-align: right;\">\n",
       "      <th></th>\n",
       "      <th>상품명</th>\n",
       "      <th>판매량</th>\n",
       "    </tr>\n",
       "  </thead>\n",
       "  <tbody>\n",
       "    <tr>\n",
       "      <th>0</th>\n",
       "      <td>김치볶음밥</td>\n",
       "      <td>1204</td>\n",
       "    </tr>\n",
       "    <tr>\n",
       "      <th>1</th>\n",
       "      <td>라면</td>\n",
       "      <td>749</td>\n",
       "    </tr>\n",
       "    <tr>\n",
       "      <th>2</th>\n",
       "      <td>짜장라면</td>\n",
       "      <td>455</td>\n",
       "    </tr>\n",
       "    <tr>\n",
       "      <th>3</th>\n",
       "      <td>치즈불고기볶음밥</td>\n",
       "      <td>420</td>\n",
       "    </tr>\n",
       "    <tr>\n",
       "      <th>4</th>\n",
       "      <td>계란추가</td>\n",
       "      <td>314</td>\n",
       "    </tr>\n",
       "    <tr>\n",
       "      <th>5</th>\n",
       "      <td>낙지볶음밥</td>\n",
       "      <td>312</td>\n",
       "    </tr>\n",
       "    <tr>\n",
       "      <th>6</th>\n",
       "      <td>새우볶음밥</td>\n",
       "      <td>309</td>\n",
       "    </tr>\n",
       "    <tr>\n",
       "      <th>7</th>\n",
       "      <td>아메리카노(ICE)</td>\n",
       "      <td>284</td>\n",
       "    </tr>\n",
       "    <tr>\n",
       "      <th>8</th>\n",
       "      <td>치즈감자튀김</td>\n",
       "      <td>246</td>\n",
       "    </tr>\n",
       "    <tr>\n",
       "      <th>9</th>\n",
       "      <td>감자튀김</td>\n",
       "      <td>242</td>\n",
       "    </tr>\n",
       "  </tbody>\n",
       "</table>\n",
       "</div>"
      ],
      "text/plain": [
       "          상품명   판매량\n",
       "0       김치볶음밥  1204\n",
       "1          라면   749\n",
       "2        짜장라면   455\n",
       "3    치즈불고기볶음밥   420\n",
       "4        계란추가   314\n",
       "5       낙지볶음밥   312\n",
       "6       새우볶음밥   309\n",
       "7  아메리카노(ICE)   284\n",
       "8      치즈감자튀김   246\n",
       "9        감자튀김   242"
      ]
     },
     "execution_count": 12,
     "metadata": {},
     "output_type": "execute_result"
    }
   ],
   "source": [
    "temp_var = temp_var[temp_var['판매수량'] != -1]\n",
    "items_counts = temp_var['상품명'].value_counts()\n",
    "\n",
    "# 집계 결과를 데이터프레임으로 변환하고, 상위 10개 선정하기\n",
    "items_count = pd.DataFrame({'상품명': items_counts.index, '판매량': items_counts.values}).head(10)\n",
    "items_count"
   ]
  },
  {
   "cell_type": "code",
   "execution_count": 13,
   "id": "0039451b",
   "metadata": {},
   "outputs": [
    {
     "data": {
      "text/plain": [
       "'/usr/share/fonts/truetype/nanum/NanumBarunGothic.ttf'"
      ]
     },
     "execution_count": 13,
     "metadata": {},
     "output_type": "execute_result"
    }
   ],
   "source": [
    "# 한글이 포함된 시각화를 위해 Matplotlib 설정\n",
    "import matplotlib as mpl\n",
    "import matplotlib.pyplot as plt\n",
    "import matplotlib.font_manager as fm\n",
    "\n",
    "fontpath = '/usr/share/fonts/truetype/nanum/NanumBarunGothic.ttf'\n",
    "font = fm.FontProperties(fname=fontpath, size=9)\n",
    "plt.rc('font', family='NanumBarunGothic') \n",
    "mpl.font_manager.findfont(font)"
   ]
  },
  {
   "cell_type": "markdown",
   "id": "da93948f",
   "metadata": {},
   "source": [
    "### 가장 인기있는 음식/음료"
   ]
  },
  {
   "cell_type": "code",
   "execution_count": 14,
   "id": "8af2a750",
   "metadata": {},
   "outputs": [
    {
     "data": {
      "image/png": "[encoded data removed]",
      "text/plain": [
       "<Figure size 640x480 with 1 Axes>"
      ]
     },
     "metadata": {},
     "output_type": "display_data"
    }
   ],
   "source": [
    "# 집계 결과를 시각화하기\n",
    "ax = sns.barplot(data=items_count,x='상품명', y ='판매량')\n",
    "containers = ax.containers[0]\n",
    "# 각 바에 대한 라벨설정\n",
    "ax.bar_label(containers, labels=[f'{x:,.0f}' for x in containers.datavalues], label_type='center', rotation=90)\n",
    "## x축이 가로로 되어있으면 가독성이 떨어지기에 세로로 출력\n",
    "plt.xticks(rotation=90) \n",
    "plt.show()"
   ]
  },
  {
   "cell_type": "code",
   "execution_count": 15,
   "id": "897a8b2f",
   "metadata": {},
   "outputs": [
    {
     "data": {
      "text/html": [
       "<div>\n",
       "<style scoped>\n",
       "    .dataframe tbody tr th:only-of-type {\n",
       "        vertical-align: middle;\n",
       "    }\n",
       "\n",
       "    .dataframe tbody tr th {\n",
       "        vertical-align: top;\n",
       "    }\n",
       "\n",
       "    .dataframe thead th {\n",
       "        text-align: right;\n",
       "    }\n",
       "</style>\n",
       "<table border=\"1\" class=\"dataframe\">\n",
       "  <thead>\n",
       "    <tr style=\"text-align: right;\">\n",
       "      <th></th>\n",
       "      <th>결제금액</th>\n",
       "    </tr>\n",
       "    <tr>\n",
       "      <th>상품명</th>\n",
       "      <th></th>\n",
       "    </tr>\n",
       "  </thead>\n",
       "  <tbody>\n",
       "    <tr>\n",
       "      <th>김치볶음밥</th>\n",
       "      <td>6004400</td>\n",
       "    </tr>\n",
       "    <tr>\n",
       "      <th>라면</th>\n",
       "      <td>2941500</td>\n",
       "    </tr>\n",
       "    <tr>\n",
       "      <th>치즈불고기볶음밥</th>\n",
       "      <td>2292600</td>\n",
       "    </tr>\n",
       "    <tr>\n",
       "      <th>짜장라면</th>\n",
       "      <td>2038500</td>\n",
       "    </tr>\n",
       "    <tr>\n",
       "      <th>낙지볶음밥</th>\n",
       "      <td>1710700</td>\n",
       "    </tr>\n",
       "    <tr>\n",
       "      <th>새우볶음밥</th>\n",
       "      <td>1539800</td>\n",
       "    </tr>\n",
       "    <tr>\n",
       "      <th>치즈감자튀김</th>\n",
       "      <td>1354200</td>\n",
       "    </tr>\n",
       "    <tr>\n",
       "      <th>감자튀김</th>\n",
       "      <td>1083800</td>\n",
       "    </tr>\n",
       "    <tr>\n",
       "      <th>아메리카노(ICE)</th>\n",
       "      <td>1058100</td>\n",
       "    </tr>\n",
       "    <tr>\n",
       "      <th>불닭볶음면</th>\n",
       "      <td>693000</td>\n",
       "    </tr>\n",
       "  </tbody>\n",
       "</table>\n",
       "</div>"
      ],
      "text/plain": [
       "               결제금액\n",
       "상품명                \n",
       "김치볶음밥       6004400\n",
       "라면          2941500\n",
       "치즈불고기볶음밥    2292600\n",
       "짜장라면        2038500\n",
       "낙지볶음밥       1710700\n",
       "새우볶음밥       1539800\n",
       "치즈감자튀김      1354200\n",
       "감자튀김        1083800\n",
       "아메리카노(ICE)  1058100\n",
       "불닭볶음면        693000"
      ]
     },
     "execution_count": 15,
     "metadata": {},
     "output_type": "execute_result"
    }
   ],
   "source": [
    "# temp_var의 payment열을 상품명을 기준으로 집계하기\n",
    "items_payment = temp_var.groupby(['상품명']).agg({'결제금액':'sum'})\n",
    "items_payment\n",
    "# item_payment의 값을 내림차순으로 정렬하고 상위 10개 도출하기\n",
    "items_payment = items_payment.sort_values(by='결제금액', ascending=False).head(10)\n",
    "items_payment"
   ]
  },
  {
   "cell_type": "code",
   "execution_count": 16,
   "id": "c6adce6f",
   "metadata": {},
   "outputs": [
    {
     "data": {
      "image/png": "[encoded data removed]",
      "text/plain": [
       "<Figure size 640x480 with 1 Axes>"
      ]
     },
     "metadata": {},
     "output_type": "display_data"
    }
   ],
   "source": [
    "ax = sns.barplot(data=items_payment,x=items_payment.index, y ='결제금액')\n",
    "containers = ax.containers[0]\n",
    "# 각 바에대한 라벨 설정\n",
    "ax.bar_label(containers, labels=[f'{x:,.0f}' for x in containers.datavalues], label_type='center', rotation=90)\n",
    "## x축이 가로로 되어있으면 가독성이 떨어지기에 세로로 출력\n",
    "plt.xticks(rotation=90) \n",
    "plt.show()"
   ]
  },
  {
   "cell_type": "markdown",
   "id": "e01a7862",
   "metadata": {},
   "source": [
    "### 가장 많이 팔린 입장권 종류 ###"
   ]
  },
  {
   "cell_type": "code",
   "execution_count": 37,
   "id": "59f93ca2",
   "metadata": {},
   "outputs": [
    {
     "name": "stdout",
     "output_type": "stream",
     "text": [
      "<class 'pandas.core.frame.DataFrame'>\n",
      "RangeIndex: 22555 entries, 0 to 22554\n",
      "Data columns (total 9 columns):\n",
      " #   Column  Non-Null Count  Dtype \n",
      "---  ------  --------------  ----- \n",
      " 0   요금제명    22292 non-null  object\n",
      " 1   입실      22555 non-null  object\n",
      " 2   퇴실      22555 non-null  object\n",
      " 3   이용      22533 non-null  object\n",
      " 4   위치      22555 non-null  object\n",
      " 5   금액      22555 non-null  int64 \n",
      " 6   구분      22555 non-null  object\n",
      " 7   고객      22555 non-null  object\n",
      " 8   입실(24)  22555 non-null  object\n",
      "dtypes: int64(1), object(8)\n",
      "memory usage: 1.5+ MB\n"
     ]
    }
   ],
   "source": [
    "# 문제 3: 가장 많이 팔린 입장권 종류\n",
    "# 활용할 데이터(entry_data)를 temp_var로 정의하기\n",
    "temp_var = entry_data\n",
    "temp_var.info()\n",
    "### 주석 처리한 이유는 밑에 있음\n",
    "# temp_var의 금액을 숫자형태로 변환하기\n",
    "# temp_var['금액'] = pd.to_numeric(temp_var['금액'].str.replace(',', ''))\n"
   ]
  },
  {
   "cell_type": "markdown",
   "id": "26396d4e",
   "metadata": {},
   "source": [
    "# 주석 처리한 이유는 애초에 int64형태이기에 주석처리를 하였다."
   ]
  },
  {
   "cell_type": "code",
   "execution_count": 18,
   "id": "94887f07",
   "metadata": {},
   "outputs": [
    {
     "data": {
      "text/html": [
       "<div>\n",
       "<style scoped>\n",
       "    .dataframe tbody tr th:only-of-type {\n",
       "        vertical-align: middle;\n",
       "    }\n",
       "\n",
       "    .dataframe tbody tr th {\n",
       "        vertical-align: top;\n",
       "    }\n",
       "\n",
       "    .dataframe thead th {\n",
       "        text-align: right;\n",
       "    }\n",
       "</style>\n",
       "<table border=\"1\" class=\"dataframe\">\n",
       "  <thead>\n",
       "    <tr style=\"text-align: right;\">\n",
       "      <th></th>\n",
       "      <th>금액</th>\n",
       "    </tr>\n",
       "    <tr>\n",
       "      <th>요금제명</th>\n",
       "      <th></th>\n",
       "    </tr>\n",
       "  </thead>\n",
       "  <tbody>\n",
       "    <tr>\n",
       "      <th>한국대생 입장권(종일권)</th>\n",
       "      <td>70037000</td>\n",
       "    </tr>\n",
       "    <tr>\n",
       "      <th>입장권(종일권)</th>\n",
       "      <td>23570500</td>\n",
       "    </tr>\n",
       "    <tr>\n",
       "      <th>심야-조조무제한(06시까지)</th>\n",
       "      <td>11600000</td>\n",
       "    </tr>\n",
       "    <tr>\n",
       "      <th>심야-조조무제한</th>\n",
       "      <td>6221000</td>\n",
       "    </tr>\n",
       "    <tr>\n",
       "      <th>한국대생 무제한 입장권</th>\n",
       "      <td>5207500</td>\n",
       "    </tr>\n",
       "    <tr>\n",
       "      <th>시간요금제(1시간)</th>\n",
       "      <td>2665500</td>\n",
       "    </tr>\n",
       "    <tr>\n",
       "      <th>시간요금제(3시간)</th>\n",
       "      <td>2042000</td>\n",
       "    </tr>\n",
       "    <tr>\n",
       "      <th>무제한 입장권</th>\n",
       "      <td>1568600</td>\n",
       "    </tr>\n",
       "    <tr>\n",
       "      <th>18시이후 무제한</th>\n",
       "      <td>1330500</td>\n",
       "    </tr>\n",
       "    <tr>\n",
       "      <th>조조무제한</th>\n",
       "      <td>693000</td>\n",
       "    </tr>\n",
       "  </tbody>\n",
       "</table>\n",
       "</div>"
      ],
      "text/plain": [
       "                       금액\n",
       "요금제명                     \n",
       "한국대생 입장권(종일권)    70037000\n",
       "입장권(종일권)         23570500\n",
       "심야-조조무제한(06시까지)  11600000\n",
       "심야-조조무제한          6221000\n",
       "한국대생 무제한 입장권      5207500\n",
       "시간요금제(1시간)        2665500\n",
       "시간요금제(3시간)        2042000\n",
       "무제한 입장권           1568600\n",
       "18시이후 무제한         1330500\n",
       "조조무제한              693000"
      ]
     },
     "execution_count": 18,
     "metadata": {},
     "output_type": "execute_result"
    }
   ],
   "source": [
    "# temp_var의 금액을 요금제명을 기준으로 집계하기\n",
    "tickets=temp_var.groupby(['요금제명']).agg({'금액': 'sum'})\n",
    "# tickets의 값을 내림차순으로 정렬하고 상위 10개 도출하기\n",
    "tickets=tickets.sort_values(by='금액', ascending=False).head(10)\n",
    "tickets"
   ]
  },
  {
   "cell_type": "code",
   "execution_count": 19,
   "id": "485132e3",
   "metadata": {},
   "outputs": [
    {
     "data": {
      "image/png": "[encoded data removed]",
      "text/plain": [
       "<Figure size 640x480 with 1 Axes>"
      ]
     },
     "metadata": {},
     "output_type": "display_data"
    }
   ],
   "source": [
    "ax = sns.barplot(data=tickets,x=tickets.index, y ='금액')\n",
    "containers = ax.containers[0]\n",
    "# 각 바에대한 라벨 설정\n",
    "ax.bar_label(containers, labels=[f'{x:,.0f}' for x in containers.datavalues], label_type='center', rotation=90)\n",
    "## x축이 가로로 되어있으면 가독성이 떨어지기에 세로로 출력\n",
    "plt.xticks(rotation=90) \n",
    "plt.show()"
   ]
  },
  {
   "cell_type": "markdown",
   "id": "c101731a",
   "metadata": {},
   "source": [
    "## 내 Key Question을 중심으로 다양한 분석을 진행해봅시다.\n",
    "#### 나의 key question - 시간대 별로 얼마나 방문하였는가 또한 해당 시간대에 어떠한 메뉴들이 많이 팔렸는가\n",
    "#### 방문자들의 매점 구매 비율 ####\n",
    "* entry_data - 요금제이용 데이터\n",
    "* sales_data - 상품 결제 데이터\n",
    "* item_data - 상품의 가격\n",
    "* item_entry_data - 요금제의 가격"
   ]
  },
  {
   "cell_type": "code",
   "execution_count": 20,
   "id": "6a849f00",
   "metadata": {},
   "outputs": [
    {
     "data": {
      "text/html": [
       "<div>\n",
       "<style scoped>\n",
       "    .dataframe tbody tr th:only-of-type {\n",
       "        vertical-align: middle;\n",
       "    }\n",
       "\n",
       "    .dataframe tbody tr th {\n",
       "        vertical-align: top;\n",
       "    }\n",
       "\n",
       "    .dataframe thead th {\n",
       "        text-align: right;\n",
       "    }\n",
       "</style>\n",
       "<table border=\"1\" class=\"dataframe\">\n",
       "  <thead>\n",
       "    <tr style=\"text-align: right;\">\n",
       "      <th></th>\n",
       "      <th>요금제명</th>\n",
       "      <th>입실</th>\n",
       "      <th>퇴실</th>\n",
       "      <th>이용</th>\n",
       "      <th>위치</th>\n",
       "      <th>금액</th>\n",
       "      <th>구분</th>\n",
       "      <th>고객</th>\n",
       "    </tr>\n",
       "  </thead>\n",
       "  <tbody>\n",
       "    <tr>\n",
       "      <th>0</th>\n",
       "      <td>시간요금제(1시간)</td>\n",
       "      <td>2022-04-01 23:39</td>\n",
       "      <td>2022-04-02 0:39</td>\n",
       "      <td>오전 1:00:00</td>\n",
       "      <td>선불기2</td>\n",
       "      <td>3000</td>\n",
       "      <td>퇴실</td>\n",
       "      <td>customer263717</td>\n",
       "    </tr>\n",
       "    <tr>\n",
       "      <th>1</th>\n",
       "      <td>시간요금제(1시간)</td>\n",
       "      <td>2022-04-01 23:39</td>\n",
       "      <td>2022-04-02 0:39</td>\n",
       "      <td>오전 1:00:00</td>\n",
       "      <td>선불기2</td>\n",
       "      <td>3000</td>\n",
       "      <td>퇴실</td>\n",
       "      <td>customer263717</td>\n",
       "    </tr>\n",
       "    <tr>\n",
       "      <th>2</th>\n",
       "      <td>무제한 입장권</td>\n",
       "      <td>2022-04-01 20:55</td>\n",
       "      <td>2022-04-01 21:41</td>\n",
       "      <td>오전 12:46:00</td>\n",
       "      <td>선불기2</td>\n",
       "      <td>7400</td>\n",
       "      <td>퇴실</td>\n",
       "      <td>customer247263</td>\n",
       "    </tr>\n",
       "    <tr>\n",
       "      <th>3</th>\n",
       "      <td>무제한 입장권</td>\n",
       "      <td>2022-04-01 20:55</td>\n",
       "      <td>2022-04-01 21:41</td>\n",
       "      <td>오전 12:46:00</td>\n",
       "      <td>선불기2</td>\n",
       "      <td>7400</td>\n",
       "      <td>퇴실</td>\n",
       "      <td>customer247263</td>\n",
       "    </tr>\n",
       "    <tr>\n",
       "      <th>4</th>\n",
       "      <td>한국대생 무제한 입장권</td>\n",
       "      <td>2022-04-01 19:54</td>\n",
       "      <td>2022-04-01 22:28</td>\n",
       "      <td>오전 2:33:00</td>\n",
       "      <td>선불기2</td>\n",
       "      <td>7400</td>\n",
       "      <td>퇴실</td>\n",
       "      <td>customer388928</td>\n",
       "    </tr>\n",
       "  </tbody>\n",
       "</table>\n",
       "</div>"
      ],
      "text/plain": [
       "           요금제명                입실                퇴실           이용    위치    금액  \\\n",
       "0    시간요금제(1시간)  2022-04-01 23:39   2022-04-02 0:39   오전 1:00:00  선불기2  3000   \n",
       "1    시간요금제(1시간)  2022-04-01 23:39   2022-04-02 0:39   오전 1:00:00  선불기2  3000   \n",
       "2       무제한 입장권  2022-04-01 20:55  2022-04-01 21:41  오전 12:46:00  선불기2  7400   \n",
       "3       무제한 입장권  2022-04-01 20:55  2022-04-01 21:41  오전 12:46:00  선불기2  7400   \n",
       "4  한국대생 무제한 입장권  2022-04-01 19:54  2022-04-01 22:28   오전 2:33:00  선불기2  7400   \n",
       "\n",
       "   구분              고객  \n",
       "0  퇴실  customer263717  \n",
       "1  퇴실  customer263717  \n",
       "2  퇴실  customer247263  \n",
       "3  퇴실  customer247263  \n",
       "4  퇴실  customer388928  "
      ]
     },
     "execution_count": 20,
     "metadata": {},
     "output_type": "execute_result"
    }
   ],
   "source": [
    "## 처리한 데이터들이 시간에 따라 얼마나 방문 하였는가를 분석하는것 -> 즉, 결제가 된 데이터들의 시간들에 따라서 분류\n",
    "temp_var = entry_data \n",
    "temp_var.head()"
   ]
  },
  {
   "cell_type": "code",
   "execution_count": 21,
   "id": "59acf6e4",
   "metadata": {},
   "outputs": [
    {
     "data": {
      "text/plain": [
       "0         23\n",
       "1         23\n",
       "2         20\n",
       "3         20\n",
       "4         19\n",
       "        ... \n",
       "22550     13\n",
       "22551     13\n",
       "22552     13\n",
       "22553     13\n",
       "22554     12\n",
       "Name: 입실(24), Length: 22555, dtype: object"
      ]
     },
     "execution_count": 21,
     "metadata": {},
     "output_type": "execute_result"
    }
   ],
   "source": [
    "### 이용한 시간들을 금액에 따라 분류\n",
    "from datetime import datetime\n",
    "## 데이터들을 시간대 별로 구분하기 위하여 슬라이싱\n",
    "temp_var['입실(24)'] = temp_var['입실'].str[10:-3]\n",
    "temp_var['입실(24)']"
   ]
  },
  {
   "cell_type": "code",
   "execution_count": 22,
   "id": "fe2d1b0a",
   "metadata": {},
   "outputs": [
    {
     "data": {
      "text/html": [
       "<div>\n",
       "<style scoped>\n",
       "    .dataframe tbody tr th:only-of-type {\n",
       "        vertical-align: middle;\n",
       "    }\n",
       "\n",
       "    .dataframe tbody tr th {\n",
       "        vertical-align: top;\n",
       "    }\n",
       "\n",
       "    .dataframe thead th {\n",
       "        text-align: right;\n",
       "    }\n",
       "</style>\n",
       "<table border=\"1\" class=\"dataframe\">\n",
       "  <thead>\n",
       "    <tr style=\"text-align: right;\">\n",
       "      <th></th>\n",
       "      <th>금액</th>\n",
       "    </tr>\n",
       "    <tr>\n",
       "      <th>입실(24)</th>\n",
       "      <th></th>\n",
       "    </tr>\n",
       "  </thead>\n",
       "  <tbody>\n",
       "    <tr>\n",
       "      <th>0</th>\n",
       "      <td>2612000</td>\n",
       "    </tr>\n",
       "    <tr>\n",
       "      <th>1</th>\n",
       "      <td>1424500</td>\n",
       "    </tr>\n",
       "    <tr>\n",
       "      <th>2</th>\n",
       "      <td>1145500</td>\n",
       "    </tr>\n",
       "    <tr>\n",
       "      <th>3</th>\n",
       "      <td>350000</td>\n",
       "    </tr>\n",
       "    <tr>\n",
       "      <th>4</th>\n",
       "      <td>277000</td>\n",
       "    </tr>\n",
       "    <tr>\n",
       "      <th>5</th>\n",
       "      <td>452000</td>\n",
       "    </tr>\n",
       "    <tr>\n",
       "      <th>6</th>\n",
       "      <td>605000</td>\n",
       "    </tr>\n",
       "    <tr>\n",
       "      <th>7</th>\n",
       "      <td>346500</td>\n",
       "    </tr>\n",
       "    <tr>\n",
       "      <th>8</th>\n",
       "      <td>692500</td>\n",
       "    </tr>\n",
       "    <tr>\n",
       "      <th>9</th>\n",
       "      <td>1044500</td>\n",
       "    </tr>\n",
       "    <tr>\n",
       "      <th>10</th>\n",
       "      <td>3090200</td>\n",
       "    </tr>\n",
       "    <tr>\n",
       "      <th>11</th>\n",
       "      <td>4041800</td>\n",
       "    </tr>\n",
       "    <tr>\n",
       "      <th>12</th>\n",
       "      <td>7730200</td>\n",
       "    </tr>\n",
       "    <tr>\n",
       "      <th>13</th>\n",
       "      <td>11138500</td>\n",
       "    </tr>\n",
       "    <tr>\n",
       "      <th>14</th>\n",
       "      <td>14110400</td>\n",
       "    </tr>\n",
       "    <tr>\n",
       "      <th>15</th>\n",
       "      <td>11976700</td>\n",
       "    </tr>\n",
       "    <tr>\n",
       "      <th>16</th>\n",
       "      <td>9995900</td>\n",
       "    </tr>\n",
       "    <tr>\n",
       "      <th>17</th>\n",
       "      <td>7490400</td>\n",
       "    </tr>\n",
       "    <tr>\n",
       "      <th>18</th>\n",
       "      <td>9423400</td>\n",
       "    </tr>\n",
       "    <tr>\n",
       "      <th>19</th>\n",
       "      <td>11676900</td>\n",
       "    </tr>\n",
       "    <tr>\n",
       "      <th>20</th>\n",
       "      <td>9310000</td>\n",
       "    </tr>\n",
       "    <tr>\n",
       "      <th>21</th>\n",
       "      <td>7120000</td>\n",
       "    </tr>\n",
       "    <tr>\n",
       "      <th>22</th>\n",
       "      <td>5887000</td>\n",
       "    </tr>\n",
       "    <tr>\n",
       "      <th>23</th>\n",
       "      <td>3432500</td>\n",
       "    </tr>\n",
       "  </tbody>\n",
       "</table>\n",
       "</div>"
      ],
      "text/plain": [
       "              금액\n",
       "입실(24)          \n",
       "0        2612000\n",
       "1        1424500\n",
       "2        1145500\n",
       "3         350000\n",
       "4         277000\n",
       "5         452000\n",
       "6         605000\n",
       "7         346500\n",
       "8         692500\n",
       "9        1044500\n",
       "10       3090200\n",
       "11       4041800\n",
       "12       7730200\n",
       "13      11138500\n",
       "14      14110400\n",
       "15      11976700\n",
       "16       9995900\n",
       "17       7490400\n",
       "18       9423400\n",
       "19      11676900\n",
       "20       9310000\n",
       "21       7120000\n",
       "22       5887000\n",
       "23       3432500"
      ]
     },
     "execution_count": 22,
     "metadata": {},
     "output_type": "execute_result"
    }
   ],
   "source": [
    "time_pay = temp_var.groupby(['입실(24)']).agg({'금액': 'sum'})\n",
    "## 데이터 프레임의 인덱스가 문자열로 인식되어 있어 정렬시 1다음 숫자가 10이 되어 숫자형으로 변경 후 정렬\n",
    "time_pay.index = pd.to_numeric(time_pay.index)\n",
    "time_pay = time_pay.sort_index()\n",
    "time_pay\n"
   ]
  },
  {
   "cell_type": "code",
   "execution_count": 23,
   "id": "052663b7",
   "metadata": {},
   "outputs": [
    {
     "data": {
      "text/html": [
       "<div>\n",
       "<style scoped>\n",
       "    .dataframe tbody tr th:only-of-type {\n",
       "        vertical-align: middle;\n",
       "    }\n",
       "\n",
       "    .dataframe tbody tr th {\n",
       "        vertical-align: top;\n",
       "    }\n",
       "\n",
       "    .dataframe thead th {\n",
       "        text-align: right;\n",
       "    }\n",
       "</style>\n",
       "<table border=\"1\" class=\"dataframe\">\n",
       "  <thead>\n",
       "    <tr style=\"text-align: right;\">\n",
       "      <th></th>\n",
       "      <th>입실</th>\n",
       "    </tr>\n",
       "    <tr>\n",
       "      <th>입실(24)</th>\n",
       "      <th></th>\n",
       "    </tr>\n",
       "  </thead>\n",
       "  <tbody>\n",
       "    <tr>\n",
       "      <th>0</th>\n",
       "      <td>526</td>\n",
       "    </tr>\n",
       "    <tr>\n",
       "      <th>1</th>\n",
       "      <td>293</td>\n",
       "    </tr>\n",
       "    <tr>\n",
       "      <th>2</th>\n",
       "      <td>239</td>\n",
       "    </tr>\n",
       "    <tr>\n",
       "      <th>3</th>\n",
       "      <td>77</td>\n",
       "    </tr>\n",
       "    <tr>\n",
       "      <th>4</th>\n",
       "      <td>58</td>\n",
       "    </tr>\n",
       "    <tr>\n",
       "      <th>5</th>\n",
       "      <td>98</td>\n",
       "    </tr>\n",
       "    <tr>\n",
       "      <th>6</th>\n",
       "      <td>144</td>\n",
       "    </tr>\n",
       "    <tr>\n",
       "      <th>7</th>\n",
       "      <td>131</td>\n",
       "    </tr>\n",
       "    <tr>\n",
       "      <th>8</th>\n",
       "      <td>242</td>\n",
       "    </tr>\n",
       "    <tr>\n",
       "      <th>9</th>\n",
       "      <td>472</td>\n",
       "    </tr>\n",
       "    <tr>\n",
       "      <th>10</th>\n",
       "      <td>578</td>\n",
       "    </tr>\n",
       "    <tr>\n",
       "      <th>11</th>\n",
       "      <td>692</td>\n",
       "    </tr>\n",
       "    <tr>\n",
       "      <th>12</th>\n",
       "      <td>1327</td>\n",
       "    </tr>\n",
       "    <tr>\n",
       "      <th>13</th>\n",
       "      <td>1819</td>\n",
       "    </tr>\n",
       "    <tr>\n",
       "      <th>14</th>\n",
       "      <td>2278</td>\n",
       "    </tr>\n",
       "    <tr>\n",
       "      <th>15</th>\n",
       "      <td>2021</td>\n",
       "    </tr>\n",
       "    <tr>\n",
       "      <th>16</th>\n",
       "      <td>1750</td>\n",
       "    </tr>\n",
       "    <tr>\n",
       "      <th>17</th>\n",
       "      <td>1396</td>\n",
       "    </tr>\n",
       "    <tr>\n",
       "      <th>18</th>\n",
       "      <td>1612</td>\n",
       "    </tr>\n",
       "    <tr>\n",
       "      <th>19</th>\n",
       "      <td>1958</td>\n",
       "    </tr>\n",
       "    <tr>\n",
       "      <th>20</th>\n",
       "      <td>1581</td>\n",
       "    </tr>\n",
       "    <tr>\n",
       "      <th>21</th>\n",
       "      <td>1369</td>\n",
       "    </tr>\n",
       "    <tr>\n",
       "      <th>22</th>\n",
       "      <td>1182</td>\n",
       "    </tr>\n",
       "    <tr>\n",
       "      <th>23</th>\n",
       "      <td>712</td>\n",
       "    </tr>\n",
       "  </tbody>\n",
       "</table>\n",
       "</div>"
      ],
      "text/plain": [
       "          입실\n",
       "입실(24)      \n",
       "0        526\n",
       "1        293\n",
       "2        239\n",
       "3         77\n",
       "4         58\n",
       "5         98\n",
       "6        144\n",
       "7        131\n",
       "8        242\n",
       "9        472\n",
       "10       578\n",
       "11       692\n",
       "12      1327\n",
       "13      1819\n",
       "14      2278\n",
       "15      2021\n",
       "16      1750\n",
       "17      1396\n",
       "18      1612\n",
       "19      1958\n",
       "20      1581\n",
       "21      1369\n",
       "22      1182\n",
       "23       712"
      ]
     },
     "execution_count": 23,
     "metadata": {},
     "output_type": "execute_result"
    }
   ],
   "source": [
    "time_count = temp_var.groupby(['입실(24)']).agg({'입실': 'count'})\n",
    "## 데이터 프레임의 인덱스가 문자열로 인식되어 있어 정렬시 1다음 숫자가 10이 되어 숫자형으로 변경 후 정렬\n",
    "time_count.index = pd.to_numeric(time_count.index)\n",
    "time_count = time_count.sort_index()\n",
    "time_count"
   ]
  },
  {
   "cell_type": "code",
   "execution_count": 24,
   "id": "05b00adc",
   "metadata": {},
   "outputs": [
    {
     "data": {
      "text/plain": [
       "Text(0.5, 1.0, '시간별 입실')"
      ]
     },
     "execution_count": 24,
     "metadata": {},
     "output_type": "execute_result"
    },
    {
     "data": {
      "image/png": "[encoded data removed]",
      "text/plain": [
       "<Figure size 1200x600 with 1 Axes>"
      ]
     },
     "metadata": {},
     "output_type": "display_data"
    },
    {
     "data": {
      "image/png": "[encoded data removed]",
      "text/plain": [
       "<Figure size 1200x600 with 1 Axes>"
      ]
     },
     "metadata": {},
     "output_type": "display_data"
    }
   ],
   "source": [
    "## 그래프1 = 결제 금액\n",
    "plt.figure(figsize=(12, 6))\n",
    "ax1 = sns.barplot(data=time_pay, x=time_pay.index, y='금액')\n",
    "containers1 = ax1.containers[0]\n",
    "## label 넣기\n",
    "ax1.bar_label(containers1, labels=[f'{x:,.0f}' for x in containers1.datavalues], label_type='center', fontsize=10)\n",
    "plt.xlabel('입실(24)')\n",
    "ax1.set_ylabel('금액')\n",
    "plt.title('시간별 금액')\n",
    "\n",
    "# 그래프 2 = 시간별 입장수\n",
    "plt.figure(figsize=(12, 6))\n",
    "ax2 = sns.barplot(data=time_count, x=time_count.index, y='입실')\n",
    "containers2 = ax2.containers[0]\n",
    "ax2.bar_label(containers2, labels=[f'{x:,.0f}' for x in containers2.datavalues], label_type='center', fontsize=10)\n",
    "plt.xlabel('입실(24)')\n",
    "ax2.set_ylabel('입실')\n",
    "plt.title('시간별 입실')"
   ]
  },
  {
   "cell_type": "markdown",
   "id": "c1285f64",
   "metadata": {},
   "source": [
    "#### 시간대 별로 금액과 이용자 수의 차이를 보았을 때 13시~ 19시까지의 매출이 매우 높게 나왔으며, 학교의 시작 시간인 9시부터 조금씩 증가하기 시작하였다.\n",
    "#### 그렇다면 시간대 별로 많이 팔리는 메뉴들은 무엇이 있을까?"
   ]
  },
  {
   "cell_type": "code",
   "execution_count": 25,
   "id": "8f3f3a50",
   "metadata": {},
   "outputs": [
    {
     "data": {
      "text/html": [
       "<div>\n",
       "<style scoped>\n",
       "    .dataframe tbody tr th:only-of-type {\n",
       "        vertical-align: middle;\n",
       "    }\n",
       "\n",
       "    .dataframe tbody tr th {\n",
       "        vertical-align: top;\n",
       "    }\n",
       "\n",
       "    .dataframe thead th {\n",
       "        text-align: right;\n",
       "    }\n",
       "</style>\n",
       "<table border=\"1\" class=\"dataframe\">\n",
       "  <thead>\n",
       "    <tr style=\"text-align: right;\">\n",
       "      <th></th>\n",
       "      <th></th>\n",
       "      <th>수량</th>\n",
       "    </tr>\n",
       "    <tr>\n",
       "      <th>입실(24)</th>\n",
       "      <th>상품명</th>\n",
       "      <th></th>\n",
       "    </tr>\n",
       "  </thead>\n",
       "  <tbody>\n",
       "    <tr>\n",
       "      <th rowspan=\"5\" valign=\"top\">00</th>\n",
       "      <th>감자튀김</th>\n",
       "      <td>5</td>\n",
       "    </tr>\n",
       "    <tr>\n",
       "      <th>계란추가</th>\n",
       "      <td>3</td>\n",
       "    </tr>\n",
       "    <tr>\n",
       "      <th>고구마라떼(ICE)</th>\n",
       "      <td>1</td>\n",
       "    </tr>\n",
       "    <tr>\n",
       "      <th>김치볶음밥</th>\n",
       "      <td>15</td>\n",
       "    </tr>\n",
       "    <tr>\n",
       "      <th>낙지볶음밥</th>\n",
       "      <td>2</td>\n",
       "    </tr>\n",
       "    <tr>\n",
       "      <th>...</th>\n",
       "      <th>...</th>\n",
       "      <td>...</td>\n",
       "    </tr>\n",
       "    <tr>\n",
       "      <th rowspan=\"5\" valign=\"top\">23</th>\n",
       "      <th>치즈케이크</th>\n",
       "      <td>2</td>\n",
       "    </tr>\n",
       "    <tr>\n",
       "      <th>쿠키(마카다미아)</th>\n",
       "      <td>2</td>\n",
       "    </tr>\n",
       "    <tr>\n",
       "      <th>쿠키(오트밀)</th>\n",
       "      <td>1</td>\n",
       "    </tr>\n",
       "    <tr>\n",
       "      <th>쿠키(초코칩)</th>\n",
       "      <td>1</td>\n",
       "    </tr>\n",
       "    <tr>\n",
       "      <th>허니밀크쉐이크</th>\n",
       "      <td>1</td>\n",
       "    </tr>\n",
       "  </tbody>\n",
       "</table>\n",
       "<p>868 rows × 1 columns</p>\n",
       "</div>"
      ],
      "text/plain": [
       "                   수량\n",
       "입실(24) 상품명           \n",
       " 00    감자튀김         5\n",
       "       계란추가         3\n",
       "       고구마라떼(ICE)   1\n",
       "       김치볶음밥       15\n",
       "       낙지볶음밥        2\n",
       "...                ..\n",
       " 23    치즈케이크        2\n",
       "       쿠키(마카다미아)    2\n",
       "       쿠키(오트밀)      1\n",
       "       쿠키(초코칩)      1\n",
       "       허니밀크쉐이크      1\n",
       "\n",
       "[868 rows x 1 columns]"
      ]
     },
     "execution_count": 25,
     "metadata": {},
     "output_type": "execute_result"
    }
   ],
   "source": [
    "temp_var = sales_data\n",
    "## 전 내용에서 하였던과 동일하게 시간대 별로 슬라이싱하고 group화\n",
    "temp_var['입실(24)'] = temp_var['결제일시'].str[10:-3]\n",
    "time_menu = temp_var.groupby(['입실(24)','상품명']).agg({'상품명': 'count'})\n",
    "time_menu.rename(columns={'상품명':'수량'}, inplace=True)\n",
    "time_menu"
   ]
  },
  {
   "cell_type": "code",
   "execution_count": 26,
   "id": "79ca97c9",
   "metadata": {},
   "outputs": [
    {
     "data": {
      "text/html": [
       "<div>\n",
       "<style scoped>\n",
       "    .dataframe tbody tr th:only-of-type {\n",
       "        vertical-align: middle;\n",
       "    }\n",
       "\n",
       "    .dataframe tbody tr th {\n",
       "        vertical-align: top;\n",
       "    }\n",
       "\n",
       "    .dataframe thead tr th {\n",
       "        text-align: left;\n",
       "    }\n",
       "</style>\n",
       "<table border=\"1\" class=\"dataframe\">\n",
       "  <thead>\n",
       "    <tr>\n",
       "      <th>입실(24)</th>\n",
       "      <th colspan=\"5\" halign=\"left\">00</th>\n",
       "      <th>01</th>\n",
       "      <th colspan=\"3\" halign=\"left\">07</th>\n",
       "      <th>08</th>\n",
       "      <th>...</th>\n",
       "      <th colspan=\"5\" halign=\"left\">22</th>\n",
       "      <th colspan=\"5\" halign=\"left\">23</th>\n",
       "    </tr>\n",
       "    <tr>\n",
       "      <th>상품명</th>\n",
       "      <th>라면</th>\n",
       "      <th>김치볶음밥</th>\n",
       "      <th>아메리카노(ICE)</th>\n",
       "      <th>짜장라면</th>\n",
       "      <th>치즈감자튀김</th>\n",
       "      <th>아메리카노(ICE)</th>\n",
       "      <th>아메리카노(ICE)</th>\n",
       "      <th>라면</th>\n",
       "      <th>초코라떼(ICE)</th>\n",
       "      <th>라면</th>\n",
       "      <th>...</th>\n",
       "      <th>라면</th>\n",
       "      <th>김치볶음밥</th>\n",
       "      <th>짜장라면</th>\n",
       "      <th>치즈감자튀김</th>\n",
       "      <th>계란추가</th>\n",
       "      <th>김치볶음밥</th>\n",
       "      <th>라면</th>\n",
       "      <th>계란추가</th>\n",
       "      <th>짜장라면</th>\n",
       "      <th>치즈감자튀김</th>\n",
       "    </tr>\n",
       "  </thead>\n",
       "  <tbody>\n",
       "    <tr>\n",
       "      <th>수량</th>\n",
       "      <td>19</td>\n",
       "      <td>15</td>\n",
       "      <td>12</td>\n",
       "      <td>10</td>\n",
       "      <td>9</td>\n",
       "      <td>2</td>\n",
       "      <td>2</td>\n",
       "      <td>1</td>\n",
       "      <td>1</td>\n",
       "      <td>1</td>\n",
       "      <td>...</td>\n",
       "      <td>24</td>\n",
       "      <td>21</td>\n",
       "      <td>14</td>\n",
       "      <td>12</td>\n",
       "      <td>10</td>\n",
       "      <td>19</td>\n",
       "      <td>19</td>\n",
       "      <td>9</td>\n",
       "      <td>8</td>\n",
       "      <td>8</td>\n",
       "    </tr>\n",
       "  </tbody>\n",
       "</table>\n",
       "<p>1 rows × 86 columns</p>\n",
       "</div>"
      ],
      "text/plain": [
       "입실(24)  00                                      01         07               \\\n",
       "상품명     라면 김치볶음밥 아메리카노(ICE) 짜장라면 치즈감자튀김 아메리카노(ICE) 아메리카노(ICE) 라면 초코라떼(ICE)   \n",
       "수량      19    15         12   10      9          2          2  1         1   \n",
       "\n",
       "입실(24)  08  ...  22                           23                       \n",
       "상품명     라면  ...  라면 김치볶음밥 짜장라면 치즈감자튀김 계란추가 김치볶음밥  라면 계란추가 짜장라면 치즈감자튀김  \n",
       "수량       1  ...  24    21   14     12   10    19  19    9    8      8  \n",
       "\n",
       "[1 rows x 86 columns]"
      ]
     },
     "execution_count": 26,
     "metadata": {},
     "output_type": "execute_result"
    }
   ],
   "source": [
    "### 데이터가 너무 많고 시각화하기에는 상품명의 종류가 많기 때문에 시간대 별로 잘팔린 상품 5개씩\n",
    "time_menu = time_menu.sort_values(by=['입실(24)', '수량'], ascending=[True, False])\n",
    "time_menu = time_menu.groupby('입실(24)').head(5)\n",
    "time_menu.T"
   ]
  },
  {
   "cell_type": "code",
   "execution_count": 27,
   "id": "3510961f",
   "metadata": {},
   "outputs": [
    {
     "data": {
      "image/png": "[encoded data removed]",
      "text/plain": [
       "<Figure size 1200x800 with 2 Axes>"
      ]
     },
     "metadata": {},
     "output_type": "display_data"
    }
   ],
   "source": [
    "## pivot테이블\n",
    "pivot_table = time_menu.pivot_table(index='입실(24)', columns='상품명', values='수량', aggfunc='sum', fill_value=0)\n",
    "\n",
    "# 히트맵 그리기\n",
    "plt.figure(figsize=(12, 8))\n",
    "sns.heatmap(pivot_table, cmap='YlGnBu', annot=True, fmt='d', linewidths=0.5)\n",
    "plt.title('시간대별 상품 판매량')\n",
    "plt.xlabel('상품명')\n",
    "plt.ylabel('입실(24)')\n",
    "plt.show()"
   ]
  },
  {
   "cell_type": "markdown",
   "id": "a5128b33",
   "metadata": {},
   "source": [
    "#### 저녘시간대에 식사를 할수 있는메뉴인 김치볶음밥, 라면등이 많이 팔렸다."
   ]
  },
  {
   "cell_type": "markdown",
   "id": "70635fdd",
   "metadata": {},
   "source": [
    "### 혹시 월별로 나누었을때 는?"
   ]
  },
  {
   "cell_type": "code",
   "execution_count": 28,
   "id": "0584518c",
   "metadata": {},
   "outputs": [
    {
     "data": {
      "text/html": [
       "<div>\n",
       "<style scoped>\n",
       "    .dataframe tbody tr th:only-of-type {\n",
       "        vertical-align: middle;\n",
       "    }\n",
       "\n",
       "    .dataframe tbody tr th {\n",
       "        vertical-align: top;\n",
       "    }\n",
       "\n",
       "    .dataframe thead th {\n",
       "        text-align: right;\n",
       "    }\n",
       "</style>\n",
       "<table border=\"1\" class=\"dataframe\">\n",
       "  <thead>\n",
       "    <tr style=\"text-align: right;\">\n",
       "      <th></th>\n",
       "      <th></th>\n",
       "      <th>수량</th>\n",
       "    </tr>\n",
       "    <tr>\n",
       "      <th>월</th>\n",
       "      <th>상품명</th>\n",
       "      <th></th>\n",
       "    </tr>\n",
       "  </thead>\n",
       "  <tbody>\n",
       "    <tr>\n",
       "      <th rowspan=\"5\" valign=\"top\">01</th>\n",
       "      <th>(면)계란추가-국물라면</th>\n",
       "      <td>3</td>\n",
       "    </tr>\n",
       "    <tr>\n",
       "      <th>(면)계란후라이 추가-불닭/짜장</th>\n",
       "      <td>6</td>\n",
       "    </tr>\n",
       "    <tr>\n",
       "      <th>(면)치즈추가</th>\n",
       "      <td>5</td>\n",
       "    </tr>\n",
       "    <tr>\n",
       "      <th>(밥)계란후라이 추가</th>\n",
       "      <td>2</td>\n",
       "    </tr>\n",
       "    <tr>\n",
       "      <th>(밥)슈레드치즈추가</th>\n",
       "      <td>1</td>\n",
       "    </tr>\n",
       "    <tr>\n",
       "      <th>...</th>\n",
       "      <th>...</th>\n",
       "      <td>...</td>\n",
       "    </tr>\n",
       "    <tr>\n",
       "      <th rowspan=\"5\" valign=\"top\">12</th>\n",
       "      <th>쿠키(오트밀)</th>\n",
       "      <td>3</td>\n",
       "    </tr>\n",
       "    <tr>\n",
       "      <th>쿠키(초코칩)</th>\n",
       "      <td>11</td>\n",
       "    </tr>\n",
       "    <tr>\n",
       "      <th>페퍼민트(ICE)</th>\n",
       "      <td>1</td>\n",
       "    </tr>\n",
       "    <tr>\n",
       "      <th>플레인요거트스무디</th>\n",
       "      <td>2</td>\n",
       "    </tr>\n",
       "    <tr>\n",
       "      <th>허니밀크쉐이크</th>\n",
       "      <td>2</td>\n",
       "    </tr>\n",
       "  </tbody>\n",
       "</table>\n",
       "<p>651 rows × 1 columns</p>\n",
       "</div>"
      ],
      "text/plain": [
       "                      수량\n",
       "월  상품명                  \n",
       "01 (면)계란추가-국물라면        3\n",
       "   (면)계란후라이 추가-불닭/짜장   6\n",
       "   (면)치즈추가             5\n",
       "   (밥)계란후라이 추가         2\n",
       "   (밥)슈레드치즈추가          1\n",
       "...                   ..\n",
       "12 쿠키(오트밀)             3\n",
       "   쿠키(초코칩)            11\n",
       "   페퍼민트(ICE)           1\n",
       "   플레인요거트스무디           2\n",
       "   허니밀크쉐이크             2\n",
       "\n",
       "[651 rows x 1 columns]"
      ]
     },
     "execution_count": 28,
     "metadata": {},
     "output_type": "execute_result"
    }
   ],
   "source": [
    "temp_var = sales_data\n",
    "## 전 내용에서 하였던과 동일하게 시간대 별로 슬라이싱하고 group화\n",
    "temp_var['월'] = temp_var['결제일시'].str[5:-9]\n",
    "temp_var\n",
    "month_menu = temp_var.groupby(['월','상품명']).agg({'상품명': 'count'})\n",
    "month_menu.rename(columns={'상품명':'수량'}, inplace=True)\n",
    "\n",
    "month_menu"
   ]
  },
  {
   "cell_type": "code",
   "execution_count": 38,
   "id": "d62ae10c",
   "metadata": {},
   "outputs": [
    {
     "data": {
      "text/html": [
       "<div>\n",
       "<style scoped>\n",
       "    .dataframe tbody tr th:only-of-type {\n",
       "        vertical-align: middle;\n",
       "    }\n",
       "\n",
       "    .dataframe tbody tr th {\n",
       "        vertical-align: top;\n",
       "    }\n",
       "\n",
       "    .dataframe thead tr th {\n",
       "        text-align: left;\n",
       "    }\n",
       "</style>\n",
       "<table border=\"1\" class=\"dataframe\">\n",
       "  <thead>\n",
       "    <tr>\n",
       "      <th>월</th>\n",
       "      <th colspan=\"5\" halign=\"left\">01</th>\n",
       "      <th colspan=\"5\" halign=\"left\">02</th>\n",
       "      <th>...</th>\n",
       "      <th colspan=\"5\" halign=\"left\">11</th>\n",
       "      <th colspan=\"5\" halign=\"left\">12</th>\n",
       "    </tr>\n",
       "    <tr>\n",
       "      <th>상품명</th>\n",
       "      <th>라면</th>\n",
       "      <th>김치볶음밥</th>\n",
       "      <th>짜장라면</th>\n",
       "      <th>샷추가</th>\n",
       "      <th>소떡소떡</th>\n",
       "      <th>김치볶음밥</th>\n",
       "      <th>라면</th>\n",
       "      <th>짜장라면</th>\n",
       "      <th>소떡소떡</th>\n",
       "      <th>치즈불고기볶음밥</th>\n",
       "      <th>...</th>\n",
       "      <th>김치볶음밥</th>\n",
       "      <th>라면</th>\n",
       "      <th>짜장라면</th>\n",
       "      <th>치즈감자튀김</th>\n",
       "      <th>치즈불고기볶음밥</th>\n",
       "      <th>김치볶음밥</th>\n",
       "      <th>라면</th>\n",
       "      <th>짜장라면</th>\n",
       "      <th>아메리카노(ICE)</th>\n",
       "      <th>낙지볶음밥</th>\n",
       "    </tr>\n",
       "  </thead>\n",
       "  <tbody>\n",
       "    <tr>\n",
       "      <th>수량</th>\n",
       "      <td>46</td>\n",
       "      <td>39</td>\n",
       "      <td>24</td>\n",
       "      <td>18</td>\n",
       "      <td>15</td>\n",
       "      <td>27</td>\n",
       "      <td>21</td>\n",
       "      <td>19</td>\n",
       "      <td>14</td>\n",
       "      <td>13</td>\n",
       "      <td>...</td>\n",
       "      <td>140</td>\n",
       "      <td>83</td>\n",
       "      <td>45</td>\n",
       "      <td>41</td>\n",
       "      <td>40</td>\n",
       "      <td>134</td>\n",
       "      <td>103</td>\n",
       "      <td>56</td>\n",
       "      <td>49</td>\n",
       "      <td>47</td>\n",
       "    </tr>\n",
       "  </tbody>\n",
       "</table>\n",
       "<p>1 rows × 60 columns</p>\n",
       "</div>"
      ],
      "text/plain": [
       "월    01                        02                         ...    11           \\\n",
       "상품명  라면 김치볶음밥 짜장라면 샷추가 소떡소떡 김치볶음밥  라면 짜장라면 소떡소떡 치즈불고기볶음밥  ... 김치볶음밥  라면 짜장라면   \n",
       "수량   46    39   24  18   15    27  21   19   14       13  ...   140  83   45   \n",
       "\n",
       "월                      12                             \n",
       "상품명 치즈감자튀김 치즈불고기볶음밥 김치볶음밥   라면 짜장라면 아메리카노(ICE) 낙지볶음밥  \n",
       "수량      41       40   134  103   56         49    47  \n",
       "\n",
       "[1 rows x 60 columns]"
      ]
     },
     "execution_count": 38,
     "metadata": {},
     "output_type": "execute_result"
    }
   ],
   "source": [
    "### 데이터가 너무 많고 시각화하기에는 상품명의 종류가 많기 때문에 시간대 별로 잘팔린 상품 5개씩\n",
    "month_menu = month_menu.sort_values(by=['월', '수량'], ascending=[True, False])\n",
    "month_menu = month_menu.groupby('월').head(5)\n",
    "month_menu.T"
   ]
  },
  {
   "cell_type": "code",
   "execution_count": 30,
   "id": "73bbf317",
   "metadata": {},
   "outputs": [
    {
     "data": {
      "image/png": "[encoded data removed]",
      "text/plain": [
       "<Figure size 1200x800 with 2 Axes>"
      ]
     },
     "metadata": {},
     "output_type": "display_data"
    }
   ],
   "source": [
    "pivot_table = month_menu.pivot_table(index='월', columns='상품명', values='수량', aggfunc='sum', fill_value=0)\n",
    "\n",
    "# 히트맵 그리기\n",
    "plt.figure(figsize=(12, 8))\n",
    "sns.heatmap(pivot_table, cmap='YlGnBu', annot=True, fmt='d', linewidths=0.5)\n",
    "plt.title('시간대별 상품 판매량')\n",
    "plt.xlabel('상품명')\n",
    "plt.ylabel('월')\n",
    "plt.show()"
   ]
  },
  {
   "cell_type": "markdown",
   "id": "ce77468a",
   "metadata": {},
   "source": [
    "### 확실히 방학기간에는 주문의 수량이 떨어지는 경향이 있다."
   ]
  },
  {
   "cell_type": "markdown",
   "id": "413fb0fe",
   "metadata": {},
   "source": [
    "이 두개의 히트맵을 합쳐서 하나의 히트맵으로"
   ]
  },
  {
   "cell_type": "code",
   "execution_count": 42,
   "id": "7166e2f1",
   "metadata": {},
   "outputs": [
    {
     "data": {
      "text/html": [
       "<div>\n",
       "<style scoped>\n",
       "    .dataframe tbody tr th:only-of-type {\n",
       "        vertical-align: middle;\n",
       "    }\n",
       "\n",
       "    .dataframe tbody tr th {\n",
       "        vertical-align: top;\n",
       "    }\n",
       "\n",
       "    .dataframe thead tr th {\n",
       "        text-align: left;\n",
       "    }\n",
       "</style>\n",
       "<table border=\"1\" class=\"dataframe\">\n",
       "  <thead>\n",
       "    <tr>\n",
       "      <th>월</th>\n",
       "      <th colspan=\"10\" halign=\"left\">01</th>\n",
       "      <th>...</th>\n",
       "      <th colspan=\"6\" halign=\"left\">06</th>\n",
       "      <th colspan=\"2\" halign=\"left\">10</th>\n",
       "      <th>11</th>\n",
       "      <th>12</th>\n",
       "    </tr>\n",
       "    <tr>\n",
       "      <th>시간(24)</th>\n",
       "      <th>00</th>\n",
       "      <th colspan=\"4\" halign=\"left\">10</th>\n",
       "      <th colspan=\"2\" halign=\"left\">11</th>\n",
       "      <th colspan=\"3\" halign=\"left\">12</th>\n",
       "      <th>...</th>\n",
       "      <th>12</th>\n",
       "      <th>17</th>\n",
       "      <th>18</th>\n",
       "      <th colspan=\"2\" halign=\"left\">19</th>\n",
       "      <th>20</th>\n",
       "      <th>12</th>\n",
       "      <th>17</th>\n",
       "      <th>18</th>\n",
       "      <th>19</th>\n",
       "    </tr>\n",
       "    <tr>\n",
       "      <th>상품명</th>\n",
       "      <th>오늘은 순살닭다리 덮밥</th>\n",
       "      <th>(면)계란추가-국물라면</th>\n",
       "      <th>라면</th>\n",
       "      <th>샷추가</th>\n",
       "      <th>청귤차(HOT)</th>\n",
       "      <th>라면</th>\n",
       "      <th>샷추가</th>\n",
       "      <th>김치볶음밥</th>\n",
       "      <th>라면</th>\n",
       "      <th>새우볶음밥</th>\n",
       "      <th>...</th>\n",
       "      <th>김치볶음밥</th>\n",
       "      <th>김치볶음밥</th>\n",
       "      <th>김치볶음밥</th>\n",
       "      <th>김치볶음밥</th>\n",
       "      <th>치즈불고기볶음밥</th>\n",
       "      <th>김치볶음밥</th>\n",
       "      <th>김치볶음밥</th>\n",
       "      <th>김치볶음밥</th>\n",
       "      <th>김치볶음밥</th>\n",
       "      <th>김치볶음밥</th>\n",
       "    </tr>\n",
       "  </thead>\n",
       "  <tbody>\n",
       "    <tr>\n",
       "      <th>수량</th>\n",
       "      <td>1</td>\n",
       "      <td>1</td>\n",
       "      <td>3</td>\n",
       "      <td>3</td>\n",
       "      <td>2</td>\n",
       "      <td>2</td>\n",
       "      <td>13</td>\n",
       "      <td>9</td>\n",
       "      <td>5</td>\n",
       "      <td>4</td>\n",
       "      <td>...</td>\n",
       "      <td>15</td>\n",
       "      <td>24</td>\n",
       "      <td>34</td>\n",
       "      <td>25</td>\n",
       "      <td>19</td>\n",
       "      <td>27</td>\n",
       "      <td>16</td>\n",
       "      <td>21</td>\n",
       "      <td>20</td>\n",
       "      <td>19</td>\n",
       "    </tr>\n",
       "  </tbody>\n",
       "</table>\n",
       "<p>1 rows × 51 columns</p>\n",
       "</div>"
      ],
      "text/plain": [
       "월                01                                                      ...  \\\n",
       "시간(24)           00           10                  11        12           ...   \n",
       "상품명    오늘은 순살닭다리 덮밥 (면)계란추가-국물라면 라면 샷추가 청귤차(HOT)  라면 샷추가 김치볶음밥 라면 새우볶음밥  ...   \n",
       "수량                1            1  3   3        2   2  13     9  5     4  ...   \n",
       "\n",
       "월         06                                     10          11    12  \n",
       "시간(24)    12    17    18    19             20    12    17    18    19  \n",
       "상품명    김치볶음밥 김치볶음밥 김치볶음밥 김치볶음밥 치즈불고기볶음밥 김치볶음밥 김치볶음밥 김치볶음밥 김치볶음밥 김치볶음밥  \n",
       "수량        15    24    34    25       19    27    16    21    20    19  \n",
       "\n",
       "[1 rows x 51 columns]"
      ]
     },
     "execution_count": 42,
     "metadata": {},
     "output_type": "execute_result"
    }
   ],
   "source": [
    "temp_var = sales_data\n",
    "## 전 내용에서 하였던과 동일하게 시간대 별로 슬라이싱하고 group화\n",
    "temp_var['월'] = temp_var['결제일시'].str[5:-9]\n",
    "temp_var['시간(24)'] = temp_var['결제일시'].str[10:-3]\n",
    "temp_var[['결제일시','시간(24)']]\n",
    "monthtime_menu = temp_var.groupby(['월','시간(24)','상품명']).agg({'상품명': 'count'})\n",
    "monthtime_menu.rename(columns={'상품명':'수량'}, inplace=True)\n",
    "monthtime_menu = monthtime_menu.groupby('수량').head(2)\n",
    "monthtime_menu.T"
   ]
  },
  {
   "cell_type": "code",
   "execution_count": 43,
   "id": "df2ed872",
   "metadata": {},
   "outputs": [
    {
     "name": "stdout",
     "output_type": "stream",
     "text": [
      "Requirement already satisfied: plotly in /opt/conda/lib/python3.9/site-packages (5.17.0)\n",
      "Requirement already satisfied: tenacity>=6.2.0 in /opt/conda/lib/python3.9/site-packages (from plotly) (8.2.3)\n",
      "Requirement already satisfied: packaging in /opt/conda/lib/python3.9/site-packages (from plotly) (21.3)\n",
      "Requirement already satisfied: pyparsing!=3.0.5,>=2.0.2 in /opt/conda/lib/python3.9/site-packages (from packaging->plotly) (3.0.7)\n",
      "\u001b[33mWARNING: Running pip as the 'root' user can result in broken permissions and conflicting behaviour with the system package manager. It is recommended to use a virtual environment instead: https://pip.pypa.io/warnings/venv\u001b[0m\u001b[33m\n",
      "\u001b[0m"
     ]
    }
   ],
   "source": [
    "! pip install plotly"
   ]
  },
  {
   "cell_type": "code",
   "execution_count": 44,
   "id": "d3dbc545",
   "metadata": {},
   "outputs": [
    {
     "data": {
      "application/vnd.plotly.v1+json": {
       "config": {
        "plotlyServerURL": "https://plot.ly"
       },
       "data": [
        {
         "hovertemplate": "상품명=오늘은 순살닭다리 덮밥<br>월=%{x}<br>시간(24)=%{y}<br>수량=%{marker.size}<extra></extra>",
         "legendgroup": "오늘은 순살닭다리 덮밥",
         "marker": {
          "color": "#636efa",
          "size": [
           1
          ],
          "sizemode": "area",
          "sizeref": 0.085,
          "symbol": "circle"
         },
         "mode": "markers",
         "name": "오늘은 순살닭다리 덮밥",
         "scene": "scene",
         "showlegend": true,
         "type": "scatter3d",
         "x": [
          "01"
         ],
         "y": [
          " 00"
         ],
         "z": [
          1
         ]
        },
        {
         "hovertemplate": "상품명=(면)계란추가-국물라면<br>월=%{x}<br>시간(24)=%{y}<br>수량=%{marker.size}<extra></extra>",
         "legendgroup": "(면)계란추가-국물라면",
         "marker": {
          "color": "#EF553B",
          "size": [
           1
          ],
          "sizemode": "area",
          "sizeref": 0.085,
          "symbol": "circle"
         },
         "mode": "markers",
         "name": "(면)계란추가-국물라면",
         "scene": "scene",
         "showlegend": true,
         "type": "scatter3d",
         "x": [
          "01"
         ],
         "y": [
          " 10"
         ],
         "z": [
          1
         ]
        },
        {
         "hovertemplate": "상품명=라면<br>월=%{x}<br>시간(24)=%{y}<br>수량=%{marker.size}<extra></extra>",
         "legendgroup": "라면",
         "marker": {
          "color": "#00cc96",
          "size": [
           3,
           2,
           5,
           12,
           6,
           10,
           10,
           13,
           15
          ],
          "sizemode": "area",
          "sizeref": 0.085,
          "symbol": "circle"
         },
         "mode": "markers",
         "name": "라면",
         "scene": "scene",
         "showlegend": true,
         "type": "scatter3d",
         "x": [
          "01",
          "01",
          "01",
          "01",
          "01",
          "03",
          "03",
          "03",
          "05"
         ],
         "y": [
          " 10",
          " 11",
          " 12",
          " 15",
          " 16",
          " 10",
          " 11",
          " 18",
          " 20"
         ],
         "z": [
          3,
          2,
          5,
          12,
          6,
          10,
          10,
          13,
          15
         ]
        },
        {
         "hovertemplate": "상품명=샷추가<br>월=%{x}<br>시간(24)=%{y}<br>수량=%{marker.size}<extra></extra>",
         "legendgroup": "샷추가",
         "marker": {
          "color": "#ab63fa",
          "size": [
           3,
           13
          ],
          "sizemode": "area",
          "sizeref": 0.085,
          "symbol": "circle"
         },
         "mode": "markers",
         "name": "샷추가",
         "scene": "scene",
         "showlegend": true,
         "type": "scatter3d",
         "x": [
          "01",
          "01"
         ],
         "y": [
          " 10",
          " 11"
         ],
         "z": [
          3,
          13
         ]
        },
        {
         "hovertemplate": "상품명=청귤차(HOT)<br>월=%{x}<br>시간(24)=%{y}<br>수량=%{marker.size}<extra></extra>",
         "legendgroup": "청귤차(HOT)",
         "marker": {
          "color": "#FFA15A",
          "size": [
           2
          ],
          "sizemode": "area",
          "sizeref": 0.085,
          "symbol": "circle"
         },
         "mode": "markers",
         "name": "청귤차(HOT)",
         "scene": "scene",
         "showlegend": true,
         "type": "scatter3d",
         "x": [
          "01"
         ],
         "y": [
          " 10"
         ],
         "z": [
          2
         ]
        },
        {
         "hovertemplate": "상품명=김치볶음밥<br>월=%{x}<br>시간(24)=%{y}<br>수량=%{marker.size}<extra></extra>",
         "legendgroup": "김치볶음밥",
         "marker": {
          "color": "#19d3f3",
          "size": [
           9,
           8,
           8,
           14,
           9,
           17,
           29,
           18,
           12,
           31,
           34,
           23,
           26,
           14,
           15,
           24,
           34,
           25,
           27,
           16,
           21,
           20,
           19
          ],
          "sizemode": "area",
          "sizeref": 0.085,
          "symbol": "circle"
         },
         "mode": "markers",
         "name": "김치볶음밥",
         "scene": "scene",
         "showlegend": true,
         "type": "scatter3d",
         "x": [
          "01",
          "01",
          "01",
          "03",
          "03",
          "03",
          "03",
          "03",
          "03",
          "04",
          "04",
          "04",
          "05",
          "05",
          "06",
          "06",
          "06",
          "06",
          "06",
          "10",
          "10",
          "11",
          "12"
         ],
         "y": [
          " 12",
          " 18",
          " 19",
          " 11",
          " 12",
          " 17",
          " 18",
          " 19",
          " 20",
          " 18",
          " 19",
          " 20",
          " 18",
          " 19",
          " 12",
          " 17",
          " 18",
          " 19",
          " 20",
          " 12",
          " 17",
          " 18",
          " 19"
         ],
         "z": [
          9,
          8,
          8,
          14,
          9,
          17,
          29,
          18,
          12,
          31,
          34,
          23,
          26,
          14,
          15,
          24,
          34,
          25,
          27,
          16,
          21,
          20,
          19
         ]
        },
        {
         "hovertemplate": "상품명=새우볶음밥<br>월=%{x}<br>시간(24)=%{y}<br>수량=%{marker.size}<extra></extra>",
         "legendgroup": "새우볶음밥",
         "marker": {
          "color": "#FF6692",
          "size": [
           4
          ],
          "sizemode": "area",
          "sizeref": 0.085,
          "symbol": "circle"
         },
         "mode": "markers",
         "name": "새우볶음밥",
         "scene": "scene",
         "showlegend": true,
         "type": "scatter3d",
         "x": [
          "01"
         ],
         "y": [
          " 12"
         ],
         "z": [
          4
         ]
        },
        {
         "hovertemplate": "상품명=아메리카노(HOT)<br>월=%{x}<br>시간(24)=%{y}<br>수량=%{marker.size}<extra></extra>",
         "legendgroup": "아메리카노(HOT)",
         "marker": {
          "color": "#B6E880",
          "size": [
           4
          ],
          "sizemode": "area",
          "sizeref": 0.085,
          "symbol": "circle"
         },
         "mode": "markers",
         "name": "아메리카노(HOT)",
         "scene": "scene",
         "showlegend": true,
         "type": "scatter3d",
         "x": [
          "01"
         ],
         "y": [
          " 14"
         ],
         "z": [
          4
         ]
        },
        {
         "hovertemplate": "상품명=짜장라면<br>월=%{x}<br>시간(24)=%{y}<br>수량=%{marker.size}<extra></extra>",
         "legendgroup": "짜장라면",
         "marker": {
          "color": "#FF97FF",
          "size": [
           5,
           7,
           11
          ],
          "sizemode": "area",
          "sizeref": 0.085,
          "symbol": "circle"
         },
         "mode": "markers",
         "name": "짜장라면",
         "scene": "scene",
         "showlegend": true,
         "type": "scatter3d",
         "x": [
          "01",
          "03",
          "03"
         ],
         "y": [
          " 14",
          " 13",
          " 19"
         ],
         "z": [
          5,
          7,
          11
         ]
        },
        {
         "hovertemplate": "상품명=소떡소떡<br>월=%{x}<br>시간(24)=%{y}<br>수량=%{marker.size}<extra></extra>",
         "legendgroup": "소떡소떡",
         "marker": {
          "color": "#FECB52",
          "size": [
           6
          ],
          "sizemode": "area",
          "sizeref": 0.085,
          "symbol": "circle"
         },
         "mode": "markers",
         "name": "소떡소떡",
         "scene": "scene",
         "showlegend": true,
         "type": "scatter3d",
         "x": [
          "01"
         ],
         "y": [
          " 15"
         ],
         "z": [
          6
         ]
        },
        {
         "hovertemplate": "상품명=쿠키(오트밀)<br>월=%{x}<br>시간(24)=%{y}<br>수량=%{marker.size}<extra></extra>",
         "legendgroup": "쿠키(오트밀)",
         "marker": {
          "color": "#636efa",
          "size": [
           7
          ],
          "sizemode": "area",
          "sizeref": 0.085,
          "symbol": "circle"
         },
         "mode": "markers",
         "name": "쿠키(오트밀)",
         "scene": "scene",
         "showlegend": true,
         "type": "scatter3d",
         "x": [
          "01"
         ],
         "y": [
          " 17"
         ],
         "z": [
          7
         ]
        },
        {
         "hovertemplate": "상품명=카페모카(ICE)<br>월=%{x}<br>시간(24)=%{y}<br>수량=%{marker.size}<extra></extra>",
         "legendgroup": "카페모카(ICE)",
         "marker": {
          "color": "#EF553B",
          "size": [
           30
          ],
          "sizemode": "area",
          "sizeref": 0.085,
          "symbol": "circle"
         },
         "mode": "markers",
         "name": "카페모카(ICE)",
         "scene": "scene",
         "showlegend": true,
         "type": "scatter3d",
         "x": [
          "03"
         ],
         "y": [
          " 18"
         ],
         "z": [
          30
         ]
        },
        {
         "hovertemplate": "상품명=2인라면<br>월=%{x}<br>시간(24)=%{y}<br>수량=%{marker.size}<extra></extra>",
         "legendgroup": "2인라면",
         "marker": {
          "color": "#00cc96",
          "size": [
           11,
           22,
           16,
           18
          ],
          "sizemode": "area",
          "sizeref": 0.085,
          "symbol": "circle"
         },
         "mode": "markers",
         "name": "2인라면",
         "scene": "scene",
         "showlegend": true,
         "type": "scatter3d",
         "x": [
          "04",
          "04",
          "04",
          "04"
         ],
         "y": [
          " 11",
          " 18",
          " 19",
          " 20"
         ],
         "z": [
          11,
          22,
          16,
          18
         ]
        },
        {
         "hovertemplate": "상품명=치즈불고기볶음밥<br>월=%{x}<br>시간(24)=%{y}<br>수량=%{marker.size}<extra></extra>",
         "legendgroup": "치즈불고기볶음밥",
         "marker": {
          "color": "#ab63fa",
          "size": [
           20,
           19
          ],
          "sizemode": "area",
          "sizeref": 0.085,
          "symbol": "circle"
         },
         "mode": "markers",
         "name": "치즈불고기볶음밥",
         "scene": "scene",
         "showlegend": true,
         "type": "scatter3d",
         "x": [
          "04",
          "06"
         ],
         "y": [
          " 19",
          " 19"
         ],
         "z": [
          20,
          19
         ]
        }
       ],
       "layout": {
        "legend": {
         "itemsizing": "constant",
         "title": {
          "text": "상품명"
         },
         "tracegroupgap": 0
        },
        "margin": {
         "t": 60
        },
        "scene": {
         "domain": {
          "x": [
           0,
           1
          ],
          "y": [
           0,
           1
          ]
         },
         "xaxis": {
          "title": {
           "text": "월"
          }
         },
         "yaxis": {
          "title": {
           "text": "시간(24)"
          }
         },
         "zaxis": {
          "title": {
           "text": "수량"
          }
         }
        },
        "template": {
         "data": {
          "bar": [
           {
            "error_x": {
             "color": "#2a3f5f"
            },
            "error_y": {
             "color": "#2a3f5f"
            },
            "marker": {
             "line": {
              "color": "#E5ECF6",
              "width": 0.5
             },
             "pattern": {
              "fillmode": "overlay",
              "size": 10,
              "solidity": 0.2
             }
            },
            "type": "bar"
           }
          ],
          "barpolar": [
           {
            "marker": {
             "line": {
              "color": "#E5ECF6",
              "width": 0.5
             },
             "pattern": {
              "fillmode": "overlay",
              "size": 10,
              "solidity": 0.2
             }
            },
            "type": "barpolar"
           }
          ],
          "carpet": [
           {
            "aaxis": {
             "endlinecolor": "#2a3f5f",
             "gridcolor": "white",
             "linecolor": "white",
             "minorgridcolor": "white",
             "startlinecolor": "#2a3f5f"
            },
            "baxis": {
             "endlinecolor": "#2a3f5f",
             "gridcolor": "white",
             "linecolor": "white",
             "minorgridcolor": "white",
             "startlinecolor": "#2a3f5f"
            },
            "type": "carpet"
           }
          ],
          "choropleth": [
           {
            "colorbar": {
             "outlinewidth": 0,
             "ticks": ""
            },
            "type": "choropleth"
           }
          ],
          "contour": [
           {
            "colorbar": {
             "outlinewidth": 0,
             "ticks": ""
            },
            "colorscale": [
             [
              0,
              "#0d0887"
             ],
             [
              0.1111111111111111,
              "#46039f"
             ],
             [
              0.2222222222222222,
              "#7201a8"
             ],
             [
              0.3333333333333333,
              "#9c179e"
             ],
             [
              0.4444444444444444,
              "#bd3786"
             ],
             [
              0.5555555555555556,
              "#d8576b"
             ],
             [
              0.6666666666666666,
              "#ed7953"
             ],
             [
              0.7777777777777778,
              "#fb9f3a"
             ],
             [
              0.8888888888888888,
              "#fdca26"
             ],
             [
              1,
              "#f0f921"
             ]
            ],
            "type": "contour"
           }
          ],
          "contourcarpet": [
           {
            "colorbar": {
             "outlinewidth": 0,
             "ticks": ""
            },
            "type": "contourcarpet"
           }
          ],
          "heatmap": [
           {
            "colorbar": {
             "outlinewidth": 0,
             "ticks": ""
            },
            "colorscale": [
             [
              0,
              "#0d0887"
             ],
             [
              0.1111111111111111,
              "#46039f"
             ],
             [
              0.2222222222222222,
              "#7201a8"
             ],
             [
              0.3333333333333333,
              "#9c179e"
             ],
             [
              0.4444444444444444,
              "#bd3786"
             ],
             [
              0.5555555555555556,
              "#d8576b"
             ],
             [
              0.6666666666666666,
              "#ed7953"
             ],
             [
              0.7777777777777778,
              "#fb9f3a"
             ],
             [
              0.8888888888888888,
              "#fdca26"
             ],
             [
              1,
              "#f0f921"
             ]
            ],
            "type": "heatmap"
           }
          ],
          "heatmapgl": [
           {
            "colorbar": {
             "outlinewidth": 0,
             "ticks": ""
            },
            "colorscale": [
             [
              0,
              "#0d0887"
             ],
             [
              0.1111111111111111,
              "#46039f"
             ],
             [
              0.2222222222222222,
              "#7201a8"
             ],
             [
              0.3333333333333333,
              "#9c179e"
             ],
             [
              0.4444444444444444,
              "#bd3786"
             ],
             [
              0.5555555555555556,
              "#d8576b"
             ],
             [
              0.6666666666666666,
              "#ed7953"
             ],
             [
              0.7777777777777778,
              "#fb9f3a"
             ],
             [
              0.8888888888888888,
              "#fdca26"
             ],
             [
              1,
              "#f0f921"
             ]
            ],
            "type": "heatmapgl"
           }
          ],
          "histogram": [
           {
            "marker": {
             "pattern": {
              "fillmode": "overlay",
              "size": 10,
              "solidity": 0.2
             }
            },
            "type": "histogram"
           }
          ],
          "histogram2d": [
           {
            "colorbar": {
             "outlinewidth": 0,
             "ticks": ""
            },
            "colorscale": [
             [
              0,
              "#0d0887"
             ],
             [
              0.1111111111111111,
              "#46039f"
             ],
             [
              0.2222222222222222,
              "#7201a8"
             ],
             [
              0.3333333333333333,
              "#9c179e"
             ],
             [
              0.4444444444444444,
              "#bd3786"
             ],
             [
              0.5555555555555556,
              "#d8576b"
             ],
             [
              0.6666666666666666,
              "#ed7953"
             ],
             [
              0.7777777777777778,
              "#fb9f3a"
             ],
             [
              0.8888888888888888,
              "#fdca26"
             ],
             [
              1,
              "#f0f921"
             ]
            ],
            "type": "histogram2d"
           }
          ],
          "histogram2dcontour": [
           {
            "colorbar": {
             "outlinewidth": 0,
             "ticks": ""
            },
            "colorscale": [
             [
              0,
              "#0d0887"
             ],
             [
              0.1111111111111111,
              "#46039f"
             ],
             [
              0.2222222222222222,
              "#7201a8"
             ],
             [
              0.3333333333333333,
              "#9c179e"
             ],
             [
              0.4444444444444444,
              "#bd3786"
             ],
             [
              0.5555555555555556,
              "#d8576b"
             ],
             [
              0.6666666666666666,
              "#ed7953"
             ],
             [
              0.7777777777777778,
              "#fb9f3a"
             ],
             [
              0.8888888888888888,
              "#fdca26"
             ],
             [
              1,
              "#f0f921"
             ]
            ],
            "type": "histogram2dcontour"
           }
          ],
          "mesh3d": [
           {
            "colorbar": {
             "outlinewidth": 0,
             "ticks": ""
            },
            "type": "mesh3d"
           }
          ],
          "parcoords": [
           {
            "line": {
             "colorbar": {
              "outlinewidth": 0,
              "ticks": ""
             }
            },
            "type": "parcoords"
           }
          ],
          "pie": [
           {
            "automargin": true,
            "type": "pie"
           }
          ],
          "scatter": [
           {
            "fillpattern": {
             "fillmode": "overlay",
             "size": 10,
             "solidity": 0.2
            },
            "type": "scatter"
           }
          ],
          "scatter3d": [
           {
            "line": {
             "colorbar": {
              "outlinewidth": 0,
              "ticks": ""
             }
            },
            "marker": {
             "colorbar": {
              "outlinewidth": 0,
              "ticks": ""
             }
            },
            "type": "scatter3d"
           }
          ],
          "scattercarpet": [
           {
            "marker": {
             "colorbar": {
              "outlinewidth": 0,
              "ticks": ""
             }
            },
            "type": "scattercarpet"
           }
          ],
          "scattergeo": [
           {
            "marker": {
             "colorbar": {
              "outlinewidth": 0,
              "ticks": ""
             }
            },
            "type": "scattergeo"
           }
          ],
          "scattergl": [
           {
            "marker": {
             "colorbar": {
              "outlinewidth": 0,
              "ticks": ""
             }
            },
            "type": "scattergl"
           }
          ],
          "scattermapbox": [
           {
            "marker": {
             "colorbar": {
              "outlinewidth": 0,
              "ticks": ""
             }
            },
            "type": "scattermapbox"
           }
          ],
          "scatterpolar": [
           {
            "marker": {
             "colorbar": {
              "outlinewidth": 0,
              "ticks": ""
             }
            },
            "type": "scatterpolar"
           }
          ],
          "scatterpolargl": [
           {
            "marker": {
             "colorbar": {
              "outlinewidth": 0,
              "ticks": ""
             }
            },
            "type": "scatterpolargl"
           }
          ],
          "scatterternary": [
           {
            "marker": {
             "colorbar": {
              "outlinewidth": 0,
              "ticks": ""
             }
            },
            "type": "scatterternary"
           }
          ],
          "surface": [
           {
            "colorbar": {
             "outlinewidth": 0,
             "ticks": ""
            },
            "colorscale": [
             [
              0,
              "#0d0887"
             ],
             [
              0.1111111111111111,
              "#46039f"
             ],
             [
              0.2222222222222222,
              "#7201a8"
             ],
             [
              0.3333333333333333,
              "#9c179e"
             ],
             [
              0.4444444444444444,
              "#bd3786"
             ],
             [
              0.5555555555555556,
              "#d8576b"
             ],
             [
              0.6666666666666666,
              "#ed7953"
             ],
             [
              0.7777777777777778,
              "#fb9f3a"
             ],
             [
              0.8888888888888888,
              "#fdca26"
             ],
             [
              1,
              "#f0f921"
             ]
            ],
            "type": "surface"
           }
          ],
          "table": [
           {
            "cells": {
             "fill": {
              "color": "#EBF0F8"
             },
             "line": {
              "color": "white"
             }
            },
            "header": {
             "fill": {
              "color": "#C8D4E3"
             },
             "line": {
              "color": "white"
             }
            },
            "type": "table"
           }
          ]
         },
         "layout": {
          "annotationdefaults": {
           "arrowcolor": "#2a3f5f",
           "arrowhead": 0,
           "arrowwidth": 1
          },
          "autotypenumbers": "strict",
          "coloraxis": {
           "colorbar": {
            "outlinewidth": 0,
            "ticks": ""
           }
          },
          "colorscale": {
           "diverging": [
            [
             0,
             "#8e0152"
            ],
            [
             0.1,
             "#c51b7d"
            ],
            [
             0.2,
             "#de77ae"
            ],
            [
             0.3,
             "#f1b6da"
            ],
            [
             0.4,
             "#fde0ef"
            ],
            [
             0.5,
             "#f7f7f7"
            ],
            [
             0.6,
             "#e6f5d0"
            ],
            [
             0.7,
             "#b8e186"
            ],
            [
             0.8,
             "#7fbc41"
            ],
            [
             0.9,
             "#4d9221"
            ],
            [
             1,
             "#276419"
            ]
           ],
           "sequential": [
            [
             0,
             "#0d0887"
            ],
            [
             0.1111111111111111,
             "#46039f"
            ],
            [
             0.2222222222222222,
             "#7201a8"
            ],
            [
             0.3333333333333333,
             "#9c179e"
            ],
            [
             0.4444444444444444,
             "#bd3786"
            ],
            [
             0.5555555555555556,
             "#d8576b"
            ],
            [
             0.6666666666666666,
             "#ed7953"
            ],
            [
             0.7777777777777778,
             "#fb9f3a"
            ],
            [
             0.8888888888888888,
             "#fdca26"
            ],
            [
             1,
             "#f0f921"
            ]
           ],
           "sequentialminus": [
            [
             0,
             "#0d0887"
            ],
            [
             0.1111111111111111,
             "#46039f"
            ],
            [
             0.2222222222222222,
             "#7201a8"
            ],
            [
             0.3333333333333333,
             "#9c179e"
            ],
            [
             0.4444444444444444,
             "#bd3786"
            ],
            [
             0.5555555555555556,
             "#d8576b"
            ],
            [
             0.6666666666666666,
             "#ed7953"
            ],
            [
             0.7777777777777778,
             "#fb9f3a"
            ],
            [
             0.8888888888888888,
             "#fdca26"
            ],
            [
             1,
             "#f0f921"
            ]
           ]
          },
          "colorway": [
           "#636efa",
           "#EF553B",
           "#00cc96",
           "#ab63fa",
           "#FFA15A",
           "#19d3f3",
           "#FF6692",
           "#B6E880",
           "#FF97FF",
           "#FECB52"
          ],
          "font": {
           "color": "#2a3f5f"
          },
          "geo": {
           "bgcolor": "white",
           "lakecolor": "white",
           "landcolor": "#E5ECF6",
           "showlakes": true,
           "showland": true,
           "subunitcolor": "white"
          },
          "hoverlabel": {
           "align": "left"
          },
          "hovermode": "closest",
          "mapbox": {
           "style": "light"
          },
          "paper_bgcolor": "white",
          "plot_bgcolor": "#E5ECF6",
          "polar": {
           "angularaxis": {
            "gridcolor": "white",
            "linecolor": "white",
            "ticks": ""
           },
           "bgcolor": "#E5ECF6",
           "radialaxis": {
            "gridcolor": "white",
            "linecolor": "white",
            "ticks": ""
           }
          },
          "scene": {
           "xaxis": {
            "backgroundcolor": "#E5ECF6",
            "gridcolor": "white",
            "gridwidth": 2,
            "linecolor": "white",
            "showbackground": true,
            "ticks": "",
            "zerolinecolor": "white"
           },
           "yaxis": {
            "backgroundcolor": "#E5ECF6",
            "gridcolor": "white",
            "gridwidth": 2,
            "linecolor": "white",
            "showbackground": true,
            "ticks": "",
            "zerolinecolor": "white"
           },
           "zaxis": {
            "backgroundcolor": "#E5ECF6",
            "gridcolor": "white",
            "gridwidth": 2,
            "linecolor": "white",
            "showbackground": true,
            "ticks": "",
            "zerolinecolor": "white"
           }
          },
          "shapedefaults": {
           "line": {
            "color": "#2a3f5f"
           }
          },
          "ternary": {
           "aaxis": {
            "gridcolor": "white",
            "linecolor": "white",
            "ticks": ""
           },
           "baxis": {
            "gridcolor": "white",
            "linecolor": "white",
            "ticks": ""
           },
           "bgcolor": "#E5ECF6",
           "caxis": {
            "gridcolor": "white",
            "linecolor": "white",
            "ticks": ""
           }
          },
          "title": {
           "x": 0.05
          },
          "xaxis": {
           "automargin": true,
           "gridcolor": "white",
           "linecolor": "white",
           "ticks": "",
           "title": {
            "standoff": 15
           },
           "zerolinecolor": "white",
           "zerolinewidth": 2
          },
          "yaxis": {
           "automargin": true,
           "gridcolor": "white",
           "linecolor": "white",
           "ticks": "",
           "title": {
            "standoff": 15
           },
           "zerolinecolor": "white",
           "zerolinewidth": 2
          }
         }
        },
        "title": {
         "text": "월, 시간, 상품명에 대한 수량 3D 플롯"
        }
       }
      },
      "text/html": [
       "<div>                            <div id=\"87ddbb03-1fc8-43ab-8936-f94d5ddfdacd\" class=\"plotly-graph-div\" style=\"height:525px; width:100%;\"></div>            <script type=\"text/javascript\">                require([\"plotly\"], function(Plotly) {                    window.PLOTLYENV=window.PLOTLYENV || {};                                    if (document.getElementById(\"87ddbb03-1fc8-43ab-8936-f94d5ddfdacd\")) {                    Plotly.newPlot(                        \"87ddbb03-1fc8-43ab-8936-f94d5ddfdacd\",                        [{\"hovertemplate\":\"\\uc0c1\\ud488\\uba85=\\uc624\\ub298\\uc740 \\uc21c\\uc0b4\\ub2ed\\ub2e4\\ub9ac \\ub36e\\ubc25\\u003cbr\\u003e\\uc6d4=%{x}\\u003cbr\\u003e\\uc2dc\\uac04(24)=%{y}\\u003cbr\\u003e\\uc218\\ub7c9=%{marker.size}\\u003cextra\\u003e\\u003c\\u002fextra\\u003e\",\"legendgroup\":\"\\uc624\\ub298\\uc740 \\uc21c\\uc0b4\\ub2ed\\ub2e4\\ub9ac \\ub36e\\ubc25\",\"marker\":{\"color\":\"#636efa\",\"size\":[1],\"sizemode\":\"area\",\"sizeref\":0.085,\"symbol\":\"circle\"},\"mode\":\"markers\",\"name\":\"\\uc624\\ub298\\uc740 \\uc21c\\uc0b4\\ub2ed\\ub2e4\\ub9ac \\ub36e\\ubc25\",\"scene\":\"scene\",\"showlegend\":true,\"x\":[\"01\"],\"y\":[\" 00\"],\"z\":[1],\"type\":\"scatter3d\"},{\"hovertemplate\":\"\\uc0c1\\ud488\\uba85=(\\uba74)\\uacc4\\ub780\\ucd94\\uac00-\\uad6d\\ubb3c\\ub77c\\uba74\\u003cbr\\u003e\\uc6d4=%{x}\\u003cbr\\u003e\\uc2dc\\uac04(24)=%{y}\\u003cbr\\u003e\\uc218\\ub7c9=%{marker.size}\\u003cextra\\u003e\\u003c\\u002fextra\\u003e\",\"legendgroup\":\"(\\uba74)\\uacc4\\ub780\\ucd94\\uac00-\\uad6d\\ubb3c\\ub77c\\uba74\",\"marker\":{\"color\":\"#EF553B\",\"size\":[1],\"sizemode\":\"area\",\"sizeref\":0.085,\"symbol\":\"circle\"},\"mode\":\"markers\",\"name\":\"(\\uba74)\\uacc4\\ub780\\ucd94\\uac00-\\uad6d\\ubb3c\\ub77c\\uba74\",\"scene\":\"scene\",\"showlegend\":true,\"x\":[\"01\"],\"y\":[\" 10\"],\"z\":[1],\"type\":\"scatter3d\"},{\"hovertemplate\":\"\\uc0c1\\ud488\\uba85=\\ub77c\\uba74\\u003cbr\\u003e\\uc6d4=%{x}\\u003cbr\\u003e\\uc2dc\\uac04(24)=%{y}\\u003cbr\\u003e\\uc218\\ub7c9=%{marker.size}\\u003cextra\\u003e\\u003c\\u002fextra\\u003e\",\"legendgroup\":\"\\ub77c\\uba74\",\"marker\":{\"color\":\"#00cc96\",\"size\":[3,2,5,12,6,10,10,13,15],\"sizemode\":\"area\",\"sizeref\":0.085,\"symbol\":\"circle\"},\"mode\":\"markers\",\"name\":\"\\ub77c\\uba74\",\"scene\":\"scene\",\"showlegend\":true,\"x\":[\"01\",\"01\",\"01\",\"01\",\"01\",\"03\",\"03\",\"03\",\"05\"],\"y\":[\" 10\",\" 11\",\" 12\",\" 15\",\" 16\",\" 10\",\" 11\",\" 18\",\" 20\"],\"z\":[3,2,5,12,6,10,10,13,15],\"type\":\"scatter3d\"},{\"hovertemplate\":\"\\uc0c1\\ud488\\uba85=\\uc0f7\\ucd94\\uac00\\u003cbr\\u003e\\uc6d4=%{x}\\u003cbr\\u003e\\uc2dc\\uac04(24)=%{y}\\u003cbr\\u003e\\uc218\\ub7c9=%{marker.size}\\u003cextra\\u003e\\u003c\\u002fextra\\u003e\",\"legendgroup\":\"\\uc0f7\\ucd94\\uac00\",\"marker\":{\"color\":\"#ab63fa\",\"size\":[3,13],\"sizemode\":\"area\",\"sizeref\":0.085,\"symbol\":\"circle\"},\"mode\":\"markers\",\"name\":\"\\uc0f7\\ucd94\\uac00\",\"scene\":\"scene\",\"showlegend\":true,\"x\":[\"01\",\"01\"],\"y\":[\" 10\",\" 11\"],\"z\":[3,13],\"type\":\"scatter3d\"},{\"hovertemplate\":\"\\uc0c1\\ud488\\uba85=\\uccad\\uade4\\ucc28(HOT)\\u003cbr\\u003e\\uc6d4=%{x}\\u003cbr\\u003e\\uc2dc\\uac04(24)=%{y}\\u003cbr\\u003e\\uc218\\ub7c9=%{marker.size}\\u003cextra\\u003e\\u003c\\u002fextra\\u003e\",\"legendgroup\":\"\\uccad\\uade4\\ucc28(HOT)\",\"marker\":{\"color\":\"#FFA15A\",\"size\":[2],\"sizemode\":\"area\",\"sizeref\":0.085,\"symbol\":\"circle\"},\"mode\":\"markers\",\"name\":\"\\uccad\\uade4\\ucc28(HOT)\",\"scene\":\"scene\",\"showlegend\":true,\"x\":[\"01\"],\"y\":[\" 10\"],\"z\":[2],\"type\":\"scatter3d\"},{\"hovertemplate\":\"\\uc0c1\\ud488\\uba85=\\uae40\\uce58\\ubcf6\\uc74c\\ubc25\\u003cbr\\u003e\\uc6d4=%{x}\\u003cbr\\u003e\\uc2dc\\uac04(24)=%{y}\\u003cbr\\u003e\\uc218\\ub7c9=%{marker.size}\\u003cextra\\u003e\\u003c\\u002fextra\\u003e\",\"legendgroup\":\"\\uae40\\uce58\\ubcf6\\uc74c\\ubc25\",\"marker\":{\"color\":\"#19d3f3\",\"size\":[9,8,8,14,9,17,29,18,12,31,34,23,26,14,15,24,34,25,27,16,21,20,19],\"sizemode\":\"area\",\"sizeref\":0.085,\"symbol\":\"circle\"},\"mode\":\"markers\",\"name\":\"\\uae40\\uce58\\ubcf6\\uc74c\\ubc25\",\"scene\":\"scene\",\"showlegend\":true,\"x\":[\"01\",\"01\",\"01\",\"03\",\"03\",\"03\",\"03\",\"03\",\"03\",\"04\",\"04\",\"04\",\"05\",\"05\",\"06\",\"06\",\"06\",\"06\",\"06\",\"10\",\"10\",\"11\",\"12\"],\"y\":[\" 12\",\" 18\",\" 19\",\" 11\",\" 12\",\" 17\",\" 18\",\" 19\",\" 20\",\" 18\",\" 19\",\" 20\",\" 18\",\" 19\",\" 12\",\" 17\",\" 18\",\" 19\",\" 20\",\" 12\",\" 17\",\" 18\",\" 19\"],\"z\":[9,8,8,14,9,17,29,18,12,31,34,23,26,14,15,24,34,25,27,16,21,20,19],\"type\":\"scatter3d\"},{\"hovertemplate\":\"\\uc0c1\\ud488\\uba85=\\uc0c8\\uc6b0\\ubcf6\\uc74c\\ubc25\\u003cbr\\u003e\\uc6d4=%{x}\\u003cbr\\u003e\\uc2dc\\uac04(24)=%{y}\\u003cbr\\u003e\\uc218\\ub7c9=%{marker.size}\\u003cextra\\u003e\\u003c\\u002fextra\\u003e\",\"legendgroup\":\"\\uc0c8\\uc6b0\\ubcf6\\uc74c\\ubc25\",\"marker\":{\"color\":\"#FF6692\",\"size\":[4],\"sizemode\":\"area\",\"sizeref\":0.085,\"symbol\":\"circle\"},\"mode\":\"markers\",\"name\":\"\\uc0c8\\uc6b0\\ubcf6\\uc74c\\ubc25\",\"scene\":\"scene\",\"showlegend\":true,\"x\":[\"01\"],\"y\":[\" 12\"],\"z\":[4],\"type\":\"scatter3d\"},{\"hovertemplate\":\"\\uc0c1\\ud488\\uba85=\\uc544\\uba54\\ub9ac\\uce74\\ub178(HOT)\\u003cbr\\u003e\\uc6d4=%{x}\\u003cbr\\u003e\\uc2dc\\uac04(24)=%{y}\\u003cbr\\u003e\\uc218\\ub7c9=%{marker.size}\\u003cextra\\u003e\\u003c\\u002fextra\\u003e\",\"legendgroup\":\"\\uc544\\uba54\\ub9ac\\uce74\\ub178(HOT)\",\"marker\":{\"color\":\"#B6E880\",\"size\":[4],\"sizemode\":\"area\",\"sizeref\":0.085,\"symbol\":\"circle\"},\"mode\":\"markers\",\"name\":\"\\uc544\\uba54\\ub9ac\\uce74\\ub178(HOT)\",\"scene\":\"scene\",\"showlegend\":true,\"x\":[\"01\"],\"y\":[\" 14\"],\"z\":[4],\"type\":\"scatter3d\"},{\"hovertemplate\":\"\\uc0c1\\ud488\\uba85=\\uc9dc\\uc7a5\\ub77c\\uba74\\u003cbr\\u003e\\uc6d4=%{x}\\u003cbr\\u003e\\uc2dc\\uac04(24)=%{y}\\u003cbr\\u003e\\uc218\\ub7c9=%{marker.size}\\u003cextra\\u003e\\u003c\\u002fextra\\u003e\",\"legendgroup\":\"\\uc9dc\\uc7a5\\ub77c\\uba74\",\"marker\":{\"color\":\"#FF97FF\",\"size\":[5,7,11],\"sizemode\":\"area\",\"sizeref\":0.085,\"symbol\":\"circle\"},\"mode\":\"markers\",\"name\":\"\\uc9dc\\uc7a5\\ub77c\\uba74\",\"scene\":\"scene\",\"showlegend\":true,\"x\":[\"01\",\"03\",\"03\"],\"y\":[\" 14\",\" 13\",\" 19\"],\"z\":[5,7,11],\"type\":\"scatter3d\"},{\"hovertemplate\":\"\\uc0c1\\ud488\\uba85=\\uc18c\\ub5a1\\uc18c\\ub5a1\\u003cbr\\u003e\\uc6d4=%{x}\\u003cbr\\u003e\\uc2dc\\uac04(24)=%{y}\\u003cbr\\u003e\\uc218\\ub7c9=%{marker.size}\\u003cextra\\u003e\\u003c\\u002fextra\\u003e\",\"legendgroup\":\"\\uc18c\\ub5a1\\uc18c\\ub5a1\",\"marker\":{\"color\":\"#FECB52\",\"size\":[6],\"sizemode\":\"area\",\"sizeref\":0.085,\"symbol\":\"circle\"},\"mode\":\"markers\",\"name\":\"\\uc18c\\ub5a1\\uc18c\\ub5a1\",\"scene\":\"scene\",\"showlegend\":true,\"x\":[\"01\"],\"y\":[\" 15\"],\"z\":[6],\"type\":\"scatter3d\"},{\"hovertemplate\":\"\\uc0c1\\ud488\\uba85=\\ucfe0\\ud0a4(\\uc624\\ud2b8\\ubc00)\\u003cbr\\u003e\\uc6d4=%{x}\\u003cbr\\u003e\\uc2dc\\uac04(24)=%{y}\\u003cbr\\u003e\\uc218\\ub7c9=%{marker.size}\\u003cextra\\u003e\\u003c\\u002fextra\\u003e\",\"legendgroup\":\"\\ucfe0\\ud0a4(\\uc624\\ud2b8\\ubc00)\",\"marker\":{\"color\":\"#636efa\",\"size\":[7],\"sizemode\":\"area\",\"sizeref\":0.085,\"symbol\":\"circle\"},\"mode\":\"markers\",\"name\":\"\\ucfe0\\ud0a4(\\uc624\\ud2b8\\ubc00)\",\"scene\":\"scene\",\"showlegend\":true,\"x\":[\"01\"],\"y\":[\" 17\"],\"z\":[7],\"type\":\"scatter3d\"},{\"hovertemplate\":\"\\uc0c1\\ud488\\uba85=\\uce74\\ud398\\ubaa8\\uce74(ICE)\\u003cbr\\u003e\\uc6d4=%{x}\\u003cbr\\u003e\\uc2dc\\uac04(24)=%{y}\\u003cbr\\u003e\\uc218\\ub7c9=%{marker.size}\\u003cextra\\u003e\\u003c\\u002fextra\\u003e\",\"legendgroup\":\"\\uce74\\ud398\\ubaa8\\uce74(ICE)\",\"marker\":{\"color\":\"#EF553B\",\"size\":[30],\"sizemode\":\"area\",\"sizeref\":0.085,\"symbol\":\"circle\"},\"mode\":\"markers\",\"name\":\"\\uce74\\ud398\\ubaa8\\uce74(ICE)\",\"scene\":\"scene\",\"showlegend\":true,\"x\":[\"03\"],\"y\":[\" 18\"],\"z\":[30],\"type\":\"scatter3d\"},{\"hovertemplate\":\"\\uc0c1\\ud488\\uba85=2\\uc778\\ub77c\\uba74\\u003cbr\\u003e\\uc6d4=%{x}\\u003cbr\\u003e\\uc2dc\\uac04(24)=%{y}\\u003cbr\\u003e\\uc218\\ub7c9=%{marker.size}\\u003cextra\\u003e\\u003c\\u002fextra\\u003e\",\"legendgroup\":\"2\\uc778\\ub77c\\uba74\",\"marker\":{\"color\":\"#00cc96\",\"size\":[11,22,16,18],\"sizemode\":\"area\",\"sizeref\":0.085,\"symbol\":\"circle\"},\"mode\":\"markers\",\"name\":\"2\\uc778\\ub77c\\uba74\",\"scene\":\"scene\",\"showlegend\":true,\"x\":[\"04\",\"04\",\"04\",\"04\"],\"y\":[\" 11\",\" 18\",\" 19\",\" 20\"],\"z\":[11,22,16,18],\"type\":\"scatter3d\"},{\"hovertemplate\":\"\\uc0c1\\ud488\\uba85=\\uce58\\uc988\\ubd88\\uace0\\uae30\\ubcf6\\uc74c\\ubc25\\u003cbr\\u003e\\uc6d4=%{x}\\u003cbr\\u003e\\uc2dc\\uac04(24)=%{y}\\u003cbr\\u003e\\uc218\\ub7c9=%{marker.size}\\u003cextra\\u003e\\u003c\\u002fextra\\u003e\",\"legendgroup\":\"\\uce58\\uc988\\ubd88\\uace0\\uae30\\ubcf6\\uc74c\\ubc25\",\"marker\":{\"color\":\"#ab63fa\",\"size\":[20,19],\"sizemode\":\"area\",\"sizeref\":0.085,\"symbol\":\"circle\"},\"mode\":\"markers\",\"name\":\"\\uce58\\uc988\\ubd88\\uace0\\uae30\\ubcf6\\uc74c\\ubc25\",\"scene\":\"scene\",\"showlegend\":true,\"x\":[\"04\",\"06\"],\"y\":[\" 19\",\" 19\"],\"z\":[20,19],\"type\":\"scatter3d\"}],                        {\"template\":{\"data\":{\"histogram2dcontour\":[{\"type\":\"histogram2dcontour\",\"colorbar\":{\"outlinewidth\":0,\"ticks\":\"\"},\"colorscale\":[[0.0,\"#0d0887\"],[0.1111111111111111,\"#46039f\"],[0.2222222222222222,\"#7201a8\"],[0.3333333333333333,\"#9c179e\"],[0.4444444444444444,\"#bd3786\"],[0.5555555555555556,\"#d8576b\"],[0.6666666666666666,\"#ed7953\"],[0.7777777777777778,\"#fb9f3a\"],[0.8888888888888888,\"#fdca26\"],[1.0,\"#f0f921\"]]}],\"choropleth\":[{\"type\":\"choropleth\",\"colorbar\":{\"outlinewidth\":0,\"ticks\":\"\"}}],\"histogram2d\":[{\"type\":\"histogram2d\",\"colorbar\":{\"outlinewidth\":0,\"ticks\":\"\"},\"colorscale\":[[0.0,\"#0d0887\"],[0.1111111111111111,\"#46039f\"],[0.2222222222222222,\"#7201a8\"],[0.3333333333333333,\"#9c179e\"],[0.4444444444444444,\"#bd3786\"],[0.5555555555555556,\"#d8576b\"],[0.6666666666666666,\"#ed7953\"],[0.7777777777777778,\"#fb9f3a\"],[0.8888888888888888,\"#fdca26\"],[1.0,\"#f0f921\"]]}],\"heatmap\":[{\"type\":\"heatmap\",\"colorbar\":{\"outlinewidth\":0,\"ticks\":\"\"},\"colorscale\":[[0.0,\"#0d0887\"],[0.1111111111111111,\"#46039f\"],[0.2222222222222222,\"#7201a8\"],[0.3333333333333333,\"#9c179e\"],[0.4444444444444444,\"#bd3786\"],[0.5555555555555556,\"#d8576b\"],[0.6666666666666666,\"#ed7953\"],[0.7777777777777778,\"#fb9f3a\"],[0.8888888888888888,\"#fdca26\"],[1.0,\"#f0f921\"]]}],\"heatmapgl\":[{\"type\":\"heatmapgl\",\"colorbar\":{\"outlinewidth\":0,\"ticks\":\"\"},\"colorscale\":[[0.0,\"#0d0887\"],[0.1111111111111111,\"#46039f\"],[0.2222222222222222,\"#7201a8\"],[0.3333333333333333,\"#9c179e\"],[0.4444444444444444,\"#bd3786\"],[0.5555555555555556,\"#d8576b\"],[0.6666666666666666,\"#ed7953\"],[0.7777777777777778,\"#fb9f3a\"],[0.8888888888888888,\"#fdca26\"],[1.0,\"#f0f921\"]]}],\"contourcarpet\":[{\"type\":\"contourcarpet\",\"colorbar\":{\"outlinewidth\":0,\"ticks\":\"\"}}],\"contour\":[{\"type\":\"contour\",\"colorbar\":{\"outlinewidth\":0,\"ticks\":\"\"},\"colorscale\":[[0.0,\"#0d0887\"],[0.1111111111111111,\"#46039f\"],[0.2222222222222222,\"#7201a8\"],[0.3333333333333333,\"#9c179e\"],[0.4444444444444444,\"#bd3786\"],[0.5555555555555556,\"#d8576b\"],[0.6666666666666666,\"#ed7953\"],[0.7777777777777778,\"#fb9f3a\"],[0.8888888888888888,\"#fdca26\"],[1.0,\"#f0f921\"]]}],\"surface\":[{\"type\":\"surface\",\"colorbar\":{\"outlinewidth\":0,\"ticks\":\"\"},\"colorscale\":[[0.0,\"#0d0887\"],[0.1111111111111111,\"#46039f\"],[0.2222222222222222,\"#7201a8\"],[0.3333333333333333,\"#9c179e\"],[0.4444444444444444,\"#bd3786\"],[0.5555555555555556,\"#d8576b\"],[0.6666666666666666,\"#ed7953\"],[0.7777777777777778,\"#fb9f3a\"],[0.8888888888888888,\"#fdca26\"],[1.0,\"#f0f921\"]]}],\"mesh3d\":[{\"type\":\"mesh3d\",\"colorbar\":{\"outlinewidth\":0,\"ticks\":\"\"}}],\"scatter\":[{\"fillpattern\":{\"fillmode\":\"overlay\",\"size\":10,\"solidity\":0.2},\"type\":\"scatter\"}],\"parcoords\":[{\"type\":\"parcoords\",\"line\":{\"colorbar\":{\"outlinewidth\":0,\"ticks\":\"\"}}}],\"scatterpolargl\":[{\"type\":\"scatterpolargl\",\"marker\":{\"colorbar\":{\"outlinewidth\":0,\"ticks\":\"\"}}}],\"bar\":[{\"error_x\":{\"color\":\"#2a3f5f\"},\"error_y\":{\"color\":\"#2a3f5f\"},\"marker\":{\"line\":{\"color\":\"#E5ECF6\",\"width\":0.5},\"pattern\":{\"fillmode\":\"overlay\",\"size\":10,\"solidity\":0.2}},\"type\":\"bar\"}],\"scattergeo\":[{\"type\":\"scattergeo\",\"marker\":{\"colorbar\":{\"outlinewidth\":0,\"ticks\":\"\"}}}],\"scatterpolar\":[{\"type\":\"scatterpolar\",\"marker\":{\"colorbar\":{\"outlinewidth\":0,\"ticks\":\"\"}}}],\"histogram\":[{\"marker\":{\"pattern\":{\"fillmode\":\"overlay\",\"size\":10,\"solidity\":0.2}},\"type\":\"histogram\"}],\"scattergl\":[{\"type\":\"scattergl\",\"marker\":{\"colorbar\":{\"outlinewidth\":0,\"ticks\":\"\"}}}],\"scatter3d\":[{\"type\":\"scatter3d\",\"line\":{\"colorbar\":{\"outlinewidth\":0,\"ticks\":\"\"}},\"marker\":{\"colorbar\":{\"outlinewidth\":0,\"ticks\":\"\"}}}],\"scattermapbox\":[{\"type\":\"scattermapbox\",\"marker\":{\"colorbar\":{\"outlinewidth\":0,\"ticks\":\"\"}}}],\"scatterternary\":[{\"type\":\"scatterternary\",\"marker\":{\"colorbar\":{\"outlinewidth\":0,\"ticks\":\"\"}}}],\"scattercarpet\":[{\"type\":\"scattercarpet\",\"marker\":{\"colorbar\":{\"outlinewidth\":0,\"ticks\":\"\"}}}],\"carpet\":[{\"aaxis\":{\"endlinecolor\":\"#2a3f5f\",\"gridcolor\":\"white\",\"linecolor\":\"white\",\"minorgridcolor\":\"white\",\"startlinecolor\":\"#2a3f5f\"},\"baxis\":{\"endlinecolor\":\"#2a3f5f\",\"gridcolor\":\"white\",\"linecolor\":\"white\",\"minorgridcolor\":\"white\",\"startlinecolor\":\"#2a3f5f\"},\"type\":\"carpet\"}],\"table\":[{\"cells\":{\"fill\":{\"color\":\"#EBF0F8\"},\"line\":{\"color\":\"white\"}},\"header\":{\"fill\":{\"color\":\"#C8D4E3\"},\"line\":{\"color\":\"white\"}},\"type\":\"table\"}],\"barpolar\":[{\"marker\":{\"line\":{\"color\":\"#E5ECF6\",\"width\":0.5},\"pattern\":{\"fillmode\":\"overlay\",\"size\":10,\"solidity\":0.2}},\"type\":\"barpolar\"}],\"pie\":[{\"automargin\":true,\"type\":\"pie\"}]},\"layout\":{\"autotypenumbers\":\"strict\",\"colorway\":[\"#636efa\",\"#EF553B\",\"#00cc96\",\"#ab63fa\",\"#FFA15A\",\"#19d3f3\",\"#FF6692\",\"#B6E880\",\"#FF97FF\",\"#FECB52\"],\"font\":{\"color\":\"#2a3f5f\"},\"hovermode\":\"closest\",\"hoverlabel\":{\"align\":\"left\"},\"paper_bgcolor\":\"white\",\"plot_bgcolor\":\"#E5ECF6\",\"polar\":{\"bgcolor\":\"#E5ECF6\",\"angularaxis\":{\"gridcolor\":\"white\",\"linecolor\":\"white\",\"ticks\":\"\"},\"radialaxis\":{\"gridcolor\":\"white\",\"linecolor\":\"white\",\"ticks\":\"\"}},\"ternary\":{\"bgcolor\":\"#E5ECF6\",\"aaxis\":{\"gridcolor\":\"white\",\"linecolor\":\"white\",\"ticks\":\"\"},\"baxis\":{\"gridcolor\":\"white\",\"linecolor\":\"white\",\"ticks\":\"\"},\"caxis\":{\"gridcolor\":\"white\",\"linecolor\":\"white\",\"ticks\":\"\"}},\"coloraxis\":{\"colorbar\":{\"outlinewidth\":0,\"ticks\":\"\"}},\"colorscale\":{\"sequential\":[[0.0,\"#0d0887\"],[0.1111111111111111,\"#46039f\"],[0.2222222222222222,\"#7201a8\"],[0.3333333333333333,\"#9c179e\"],[0.4444444444444444,\"#bd3786\"],[0.5555555555555556,\"#d8576b\"],[0.6666666666666666,\"#ed7953\"],[0.7777777777777778,\"#fb9f3a\"],[0.8888888888888888,\"#fdca26\"],[1.0,\"#f0f921\"]],\"sequentialminus\":[[0.0,\"#0d0887\"],[0.1111111111111111,\"#46039f\"],[0.2222222222222222,\"#7201a8\"],[0.3333333333333333,\"#9c179e\"],[0.4444444444444444,\"#bd3786\"],[0.5555555555555556,\"#d8576b\"],[0.6666666666666666,\"#ed7953\"],[0.7777777777777778,\"#fb9f3a\"],[0.8888888888888888,\"#fdca26\"],[1.0,\"#f0f921\"]],\"diverging\":[[0,\"#8e0152\"],[0.1,\"#c51b7d\"],[0.2,\"#de77ae\"],[0.3,\"#f1b6da\"],[0.4,\"#fde0ef\"],[0.5,\"#f7f7f7\"],[0.6,\"#e6f5d0\"],[0.7,\"#b8e186\"],[0.8,\"#7fbc41\"],[0.9,\"#4d9221\"],[1,\"#276419\"]]},\"xaxis\":{\"gridcolor\":\"white\",\"linecolor\":\"white\",\"ticks\":\"\",\"title\":{\"standoff\":15},\"zerolinecolor\":\"white\",\"automargin\":true,\"zerolinewidth\":2},\"yaxis\":{\"gridcolor\":\"white\",\"linecolor\":\"white\",\"ticks\":\"\",\"title\":{\"standoff\":15},\"zerolinecolor\":\"white\",\"automargin\":true,\"zerolinewidth\":2},\"scene\":{\"xaxis\":{\"backgroundcolor\":\"#E5ECF6\",\"gridcolor\":\"white\",\"linecolor\":\"white\",\"showbackground\":true,\"ticks\":\"\",\"zerolinecolor\":\"white\",\"gridwidth\":2},\"yaxis\":{\"backgroundcolor\":\"#E5ECF6\",\"gridcolor\":\"white\",\"linecolor\":\"white\",\"showbackground\":true,\"ticks\":\"\",\"zerolinecolor\":\"white\",\"gridwidth\":2},\"zaxis\":{\"backgroundcolor\":\"#E5ECF6\",\"gridcolor\":\"white\",\"linecolor\":\"white\",\"showbackground\":true,\"ticks\":\"\",\"zerolinecolor\":\"white\",\"gridwidth\":2}},\"shapedefaults\":{\"line\":{\"color\":\"#2a3f5f\"}},\"annotationdefaults\":{\"arrowcolor\":\"#2a3f5f\",\"arrowhead\":0,\"arrowwidth\":1},\"geo\":{\"bgcolor\":\"white\",\"landcolor\":\"#E5ECF6\",\"subunitcolor\":\"white\",\"showland\":true,\"showlakes\":true,\"lakecolor\":\"white\"},\"title\":{\"x\":0.05},\"mapbox\":{\"style\":\"light\"}}},\"scene\":{\"domain\":{\"x\":[0.0,1.0],\"y\":[0.0,1.0]},\"xaxis\":{\"title\":{\"text\":\"\\uc6d4\"}},\"yaxis\":{\"title\":{\"text\":\"\\uc2dc\\uac04(24)\"}},\"zaxis\":{\"title\":{\"text\":\"\\uc218\\ub7c9\"}}},\"legend\":{\"title\":{\"text\":\"\\uc0c1\\ud488\\uba85\"},\"tracegroupgap\":0,\"itemsizing\":\"constant\"},\"margin\":{\"t\":60},\"title\":{\"text\":\"\\uc6d4, \\uc2dc\\uac04, \\uc0c1\\ud488\\uba85\\uc5d0 \\ub300\\ud55c \\uc218\\ub7c9 3D \\ud50c\\ub86f\"}},                        {\"responsive\": true}                    ).then(function(){\n",
       "                            \n",
       "var gd = document.getElementById('87ddbb03-1fc8-43ab-8936-f94d5ddfdacd');\n",
       "var x = new MutationObserver(function (mutations, observer) {{\n",
       "        var display = window.getComputedStyle(gd).display;\n",
       "        if (!display || display === 'none') {{\n",
       "            console.log([gd, 'removed!']);\n",
       "            Plotly.purge(gd);\n",
       "            observer.disconnect();\n",
       "        }}\n",
       "}});\n",
       "\n",
       "// Listen for the removal of the full notebook cells\n",
       "var notebookContainer = gd.closest('#notebook-container');\n",
       "if (notebookContainer) {{\n",
       "    x.observe(notebookContainer, {childList: true});\n",
       "}}\n",
       "\n",
       "// Listen for the clearing of the current output cell\n",
       "var outputEl = gd.closest('.output');\n",
       "if (outputEl) {{\n",
       "    x.observe(outputEl, {childList: true});\n",
       "}}\n",
       "\n",
       "                        })                };                });            </script>        </div>"
      ]
     },
     "metadata": {},
     "output_type": "display_data"
    }
   ],
   "source": [
    "import plotly.express as px\n",
    "\n",
    "# 데이터프레임에서 필요한 부분만 추출\n",
    "subset_df = monthtime_menu.reset_index()\n",
    "\n",
    "# 3D scatter plot 그리기\n",
    "fig = px.scatter_3d(subset_df, x='월', y='시간(24)', z='수량', color='상품명', size='수량')\n",
    "\n",
    "# 그래프 표시\n",
    "fig.update_layout(title='월, 시간, 상품명에 대한 수량 3D 플롯')\n",
    "fig.show()\n"
   ]
  },
  {
   "cell_type": "markdown",
   "id": "51063cdc",
   "metadata": {},
   "source": [
    "### 히트맵으로 보기 불편한 점이 있을 수도 있기에 시간대와 월별을 기준으로 3d산점도를 통해서 월별, 시간별을 기준으로 가장 잘팔린 상품을 시각화"
   ]
  },
  {
   "cell_type": "markdown",
   "id": "a32fb1dd",
   "metadata": {},
   "source": [
    "### 방문객들의 매점 이용률 확인"
   ]
  },
  {
   "cell_type": "markdown",
   "id": "d5f87a9f",
   "metadata": {},
   "source": [
    "### 총 방문객 수"
   ]
  },
  {
   "cell_type": "code",
   "execution_count": 34,
   "id": "3c6bf962",
   "metadata": {},
   "outputs": [],
   "source": [
    "customer = len(set(entry_data['고객']))\n",
    "user = len(set(sales_data['고객']))"
   ]
  },
  {
   "cell_type": "code",
   "execution_count": 35,
   "id": "cb7a7319",
   "metadata": {},
   "outputs": [
    {
     "data": {
      "text/plain": [
       "(5404, 1973)"
      ]
     },
     "execution_count": 35,
     "metadata": {},
     "output_type": "execute_result"
    }
   ],
   "source": [
    "customer, user"
   ]
  },
  {
   "cell_type": "code",
   "execution_count": 36,
   "id": "fba08552",
   "metadata": {},
   "outputs": [
    {
     "data": {
      "image/png": "[encoded data removed]",
      "text/plain": [
       "<Figure size 800x600 with 1 Axes>"
      ]
     },
     "metadata": {},
     "output_type": "display_data"
    }
   ],
   "source": [
    "labels = ['전체 방문객', '매점 사용객']\n",
    "sizes = [customer - user, user]\n",
    "colors = ['#ff9999','#66b2ff']\n",
    "explode = (0.1, 0)  # Total Visitors 부분을 약간 돌출시킴\n",
    "\n",
    "# 비율 시각화\n",
    "plt.figure(figsize=(8, 6))\n",
    "plt.pie(sizes, explode=explode, labels=labels, colors=colors, autopct='%1.1f%%', startangle=140, shadow=True)\n",
    "plt.title(\"전체 방문객 대비 매점 사용객 비율\")\n",
    "plt.show()"
   ]
  },
  {
   "cell_type": "markdown",
   "id": "55acabd8",
   "metadata": {},
   "source": [
    "매점 사용자 비율을 높이면 매출에 도움이 될것 같다."
   ]
  },
  {
   "cell_type": "markdown",
   "id": "048e979b",
   "metadata": {},
   "source": [
    "### 결론 ###"
   ]
  },
  {
   "cell_type": "markdown",
   "id": "c2eb5cf8",
   "metadata": {},
   "source": [
    "> 1. 비수기 시즌(방학이나 새벽)에는 입장료 할인 행사나 매점 상품 할인 등의 행사를 진행해 매출 상승 유도 \n",
    "> 2. 입장티켓을 구매하면 매점 상품 할인 쿠폰 지급등으로 매점 이용율 상승 유도\n",
    "> 3. 몇몇 상품들은 판매가 저조한걸 보니 가격이 문제가 있는거 같다. 가격조정이 필요해 보인다."
   ]
  },
  {
   "cell_type": "markdown",
   "id": "cba4b700",
   "metadata": {},
   "source": [
    "### 프로젝트 목표\n",
    "\n",
    "> - 모두 카페의 데이터를 가지고 카페에 대한 분석\n",
    "\n",
    "### 성과 및 결과\n",
    "\n",
    "> - 해당 데이터를 가지고 많은 것을 시도해보고 해당 데이터에 대해 이해할 수 있는시간과 데이터의 노이즈가 심할 경우 클린징을 얼마나 잘해야 할지에 대해서 알게 되었다.\n",
    "> - 해당 데이터를 통해서 분석을 하였고, 매출을 올릴수 있는 방법에 대하여 생각하게 되었다.\n",
    "\n",
    "### 배운 점\n",
    "\n",
    "> - 해당 데이터를 가지고 많은 것을 시도해보고 해당 데이터에 대해 이해할 수 있는시간과 데이터의 노이즈가 심할 경우 클린징을 얼마나 잘해야 할지에 대해서 알게 되었음.\n",
    "> - 시각화하는 과정에서 경우에 따라 시각화를 하더라도 가독성이 떨어지는 경우에 대해서 확인할 수 있었다\n",
    "\n",
    "### 개선할 점 및 아쉬운 점\n",
    "\n",
    "> - 데이터에 대한 명세가 없어 데이터를 이해하는데 시간이 걸렸으며, 데이터의 노이즈가 심한것으로 보인다.\n",
    "\n",
    "### 느낀점\n",
    "\n",
    "> - 데이터의 노이즈가 심해 너무 어떻게 분석을 진행해야할지 데이터의 노이즈를 어떻게 처리해야할지 초반에 감이 잡히지가 않았다.\n",
    "\n",
    "\n",
    "### 결론\n",
    "\n",
    "> - 해당 데이터를 가지고 노이즈를 없애는 것에대해서 연습을 할 생각이 들었다."
   ]
  },
  {
   "cell_type": "code",
   "execution_count": null,
   "id": "74aba6ef",
   "metadata": {},
   "outputs": [],
   "source": []
  }
 ],
 "metadata": {
  "kernelspec": {
   "display_name": "Python 3 (ipykernel)",
   "language": "python",
   "name": "python3"
  },
  "language_info": {
   "codemirror_mode": {
    "name": "ipython",
    "version": 3
   },
   "file_extension": ".py",
   "mimetype": "text/x-python",
   "name": "python",
   "nbconvert_exporter": "python",
   "pygments_lexer": "ipython3",
   "version": "3.9.7"
  }
 },
 "nbformat": 4,
 "nbformat_minor": 5
}
