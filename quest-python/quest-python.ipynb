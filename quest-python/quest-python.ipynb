{
 "cells": [
  {
   "cell_type": "code",
   "execution_count": 7,
   "id": "29c4154f",
   "metadata": {},
   "outputs": [],
   "source": [
    "###전화번호 뒷자리 가리는 함수\n",
    "def change_num(nums):\n",
    "   answer = nums.replace(nums[-5:],'#####')\n",
    "   return answer"
   ]
  },
  {
   "cell_type": "code",
   "execution_count": 8,
   "id": "d52ef15e",
   "metadata": {},
   "outputs": [
    {
     "data": {
      "text/plain": [
       "'010-13579-#####'"
      ]
     },
     "execution_count": 8,
     "metadata": {},
     "output_type": "execute_result"
    }
   ],
   "source": [
    "change_num('010-13579-24688')"
   ]
  },
  {
   "cell_type": "code",
   "execution_count": 9,
   "id": "4dbb38da",
   "metadata": {},
   "outputs": [],
   "source": [
    "####리스트 평탄화\n",
    "a = [[1, 2], 3, [[4, 5, 6], 7], 8, 9]\n",
    "def flatten(data):\n",
    "    output = []\n",
    "    for data1 in data:\n",
    "        if type(data1) == list :\n",
    "            output += flatten(data1)\n",
    "        else :\n",
    "            output += [data1]    \n",
    "    return output"
   ]
  },
  {
   "cell_type": "code",
   "execution_count": 11,
   "id": "194a0127",
   "metadata": {},
   "outputs": [
    {
     "data": {
      "text/plain": [
       "[1, 2, 3, 4, 5, 6, 7, 8, 9]"
      ]
     },
     "execution_count": 11,
     "metadata": {},
     "output_type": "execute_result"
    }
   ],
   "source": [
    "flatten(a)"
   ]
  },
  {
   "cell_type": "code",
   "execution_count": 13,
   "id": "ee8711a1",
   "metadata": {},
   "outputs": [],
   "source": [
    "def mul(*values):\n",
    "    output = 1\n",
    "    for num in values:\n",
    "        if num <11:\n",
    "            output *= num\n",
    "    return output"
   ]
  },
  {
   "cell_type": "code",
   "execution_count": 14,
   "id": "dd8ee849",
   "metadata": {},
   "outputs": [
    {
     "data": {
      "text/plain": [
       "8"
      ]
     },
     "execution_count": 14,
     "metadata": {},
     "output_type": "execute_result"
    }
   ],
   "source": [
    "mul(2,4,15)"
   ]
  },
  {
   "cell_type": "code",
   "execution_count": null,
   "id": "cb6a1653",
   "metadata": {},
   "outputs": [],
   "source": []
  }
 ],
 "metadata": {
  "kernelspec": {
   "display_name": "Python 3 (ipykernel)",
   "language": "python",
   "name": "python3"
  },
  "language_info": {
   "codemirror_mode": {
    "name": "ipython",
    "version": 3
   },
   "file_extension": ".py",
   "mimetype": "text/x-python",
   "name": "python",
   "nbconvert_exporter": "python",
   "pygments_lexer": "ipython3",
   "version": "3.9.7"
  }
 },
 "nbformat": 4,
 "nbformat_minor": 5
}
