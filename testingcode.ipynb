{
 "cells": [
  {
   "cell_type": "code",
   "execution_count": 1,
   "id": "5fe8f848",
   "metadata": {},
   "outputs": [
    {
     "name": "stdout",
     "output_type": "stream",
     "text": [
      "주사위 면의 개수를 입력하세요: 6\n",
      "주사위 모드를 선택하시오\n",
      " 1.일반주사위 던지기 \n",
      "2. 주사위의 통계2\n",
      "주사위를 던질 수를 정하시오.10\n",
      "1 은 0 번 나왓습니다.\n",
      "2 은 2 번 나왓습니다.\n",
      "3 은 1 번 나왓습니다.\n",
      "4 은 0 번 나왓습니다.\n",
      "5 은 4 번 나왓습니다.\n",
      "6 은 3 번 나왓습니다.\n",
      "행운의 숫자는 [5]\n"
     ]
    }
   ],
   "source": [
    "from random import randrange\n",
    "import random\n",
    "\n",
    "class FunnyDice:\n",
    "    def __init__(self, n=6): # 매 번 바뀌는 주소값을 바인딩하기 위해서 self를 사용한다\n",
    "\n",
    "        self.n = int(n)\n",
    "        self.numbers = list(range(1, n+1)) \n",
    "        self.index = randrange(0, self.n) \n",
    "        self.val = self.numbers[self.index] \n",
    "\n",
    "    def throw(self):\n",
    "\n",
    "        self.index = randrange(0,self.n)\n",
    "        self.val = self.numbers[self.index] # 하나 뽑는 값 지정\n",
    "\n",
    "    def getval(self):\n",
    "        return self.val # 뽑은 값 출력\n",
    "\n",
    "    def dice_tot(self,a=6):\n",
    "        tot_list =[]\n",
    "        result = [0]*6\n",
    "        for i in range(a):\n",
    "            dice=random.randint(1,6)\n",
    "            tot_list.append(dice)\n",
    "        for i in tot_list:\n",
    "            result[i-1] += 1\n",
    "\n",
    "        return result    \n",
    "\n",
    "        \n",
    "def get_inputs():\n",
    "    list_get = []\n",
    "    n = int(input(\"주사위 면의 개수를 입력하세요: \"))\n",
    "    a = int(input(\"주사위 모드를 선택하시오\\n 1.일반주사위 던지기 \\n2. 주사위의 통계\"))\n",
    "    if a == 2 :\n",
    "        b = int(input(\"주사위를 던질 수를 정하시오.\"))\n",
    "        list_get.extend([n,a,b])        \n",
    "    else :\n",
    "        list_get.extend([n,a])\n",
    "    return list_get \n",
    "\n",
    "def main(): \n",
    "    n = get_inputs() \n",
    "    if n[1]==1:\n",
    "        mydice = FunnyDice(n[0])\n",
    "        mydice.throw()\n",
    "        print(\"행운의 숫자는? {0}\".format(mydice.getval()))\n",
    "    else :\n",
    "        mydice = FunnyDice(n[0])\n",
    "        list_tot= mydice.dice_tot(n[2])\n",
    "        max_num = max(list_tot)\n",
    "        answer = [num + 1 for num, value in enumerate(list_tot) if value == max_num]\n",
    "        for i in range(6) :\n",
    "            print(i+1 ,\"은\" ,list_tot[i],\"번 나왓습니다.\")\n",
    "        print(\"행운의 숫자는\",answer )\n",
    "\n",
    "\n",
    "if __name__ == '__main__':\n",
    "    main()\n",
    "\n"
   ]
  },
  {
   "cell_type": "code",
   "execution_count": null,
   "id": "aced2f73",
   "metadata": {},
   "outputs": [],
   "source": []
  }
 ],
 "metadata": {
  "kernelspec": {
   "display_name": "Python 3 (ipykernel)",
   "language": "python",
   "name": "python3"
  },
  "language_info": {
   "codemirror_mode": {
    "name": "ipython",
    "version": 3
   },
   "file_extension": ".py",
   "mimetype": "text/x-python",
   "name": "python",
   "nbconvert_exporter": "python",
   "pygments_lexer": "ipython3",
   "version": "3.9.7"
  }
 },
 "nbformat": 4,
 "nbformat_minor": 5
}
