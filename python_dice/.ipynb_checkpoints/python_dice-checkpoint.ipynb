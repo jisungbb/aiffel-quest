{
 "cells": [
  {
   "cell_type": "code",
   "execution_count": null,
   "id": "6ddd42b5",
   "metadata": {},
   "outputs": [],
   "source": [
    "#####나만의 n면체 주사위"
   ]
  },
  {
   "cell_type": "code",
   "execution_count": 4,
   "id": "502a7a14",
   "metadata": {},
   "outputs": [],
   "source": [
    "from random import randrange  #randrange 모듈을 사용하기 위하여 random의 randrange를 import "
   ]
  },
  {
   "cell_type": "code",
   "execution_count": 5,
   "id": "58c68003",
   "metadata": {},
   "outputs": [],
   "source": [
    "class FunnyDice:\n",
    "    def __init__(self, n=6):  #초기화 메서드\n",
    "        self.n = n    #주사위의 면의 갯수를 지정\n",
    "        self.numbers = list(range(1,n+1)) #주사위 눈금을 list로 묶음\n",
    "        self.index = randrange(0,self.n)  #주사위의 index 할당 \n",
    "        self.val = self.numbers[self.index] #할당된 index로 리스트 안에서 주사위 눈금을 val에 할당\n",
    "    \n",
    "    \n",
    "    def throw(self):                       #주사위를 던진 후 눈금 확인 메서드\n",
    "        self.index = randrange(0,self.n)    #주사위의 index 할당(randrange를 통해서 랜덤으로 할당)\n",
    "        self.val = self.numbers[self.index]  #랜덤으로 할당된 index값에 해당되는 눈금확인\n",
    "        return self.val                       # 해당 눈금을 반환\n",
    "    \n",
    "    def battle(self):                       #대결 메서드 -> throw메서드가 \"내가\" 던진 주사위 눈금이었다면 상대방이 던진 주사위 눈금\n",
    "        self.ai = randrange(0,self.n)        #randrange를 통해서 주사위인덱스값을 랜덤으로 할당\n",
    "        self.ainum = self.numbers[self.ai]    #인덱스 값으로 맨처음 초기화한 list내에서 눈금 할당\n",
    "        return self.ainum                      # 할당된 눈금 반환\n",
    "    "
   ]
  },
  {
   "cell_type": "code",
   "execution_count": 6,
   "id": "90527957",
   "metadata": {},
   "outputs": [
    {
     "name": "stdout",
     "output_type": "stream",
     "text": [
      "주사위 면의 개수를 입력하세요: 8\n",
      "진행하고 싶은 모드를 선택해주세요 \n",
      " 1.일반 주사위\n",
      " 2.대결\n",
      "2\n",
      "결과는 내가1, ai가7로 ai가 이겼습니다.\n"
     ]
    }
   ],
   "source": [
    "\n",
    "def get_inputs():                #주사위 면의 개수와 진행하고 싶은 종류 선택하는 함수\n",
    "    n = int(input(\"주사위 면의 개수를 입력하세요: \"))\n",
    "    a = int(input(\"진행하고 싶은 모드를 선택해주세요 \\n 1.일반 주사위\\n 2.대결\\n\"))\n",
    "    list_get = []                #면의 개수와 종류를 같이 반환하기 위한 리스트 생성\n",
    "    list_get.extend([n, a])       # extend로 리스트에 n,a값 할당 (append는 한가지밖에 안되기 떄문)\n",
    "\n",
    "    return list_get                 #리스트 반환\n",
    "\n",
    "\n",
    "def main():                          #메인 함수\n",
    "    n = get_inputs()                   #get_inputs 호출\n",
    "    mydice = FunnyDice(n[0])            #인스턴스 생성 n[0]은 입력받은 것들중 주사위 개수\n",
    "    if n[1]!=1:                          #battle 모드로 진행하였는지에 따른 조건문\n",
    "        my_result = mydice.throw()        #throw 메서드 호출 \n",
    "        ai_result = mydice.battle()        #battle 메서드 호출\n",
    "        if my_result - ai_result > 0:        #결과 출력 조건문\n",
    "\n",
    "            print(\"결과는 내가{0}, ai가{1}로 {2}가 이겼습니다.\".format(my_result,ai_result,\"사용자\"))\n",
    "        elif my_result - ai_result < 0:\n",
    "            print(\"결과는 내가{0}, ai가{1}로 {2}가 이겼습니다.\".format(my_result,ai_result ,\"ai\"))\n",
    "        else :\n",
    "            print(\"{0}로 무승부입니다.\".format(my_result))        \n",
    "    else :                                  #일반 주사위 모드\n",
    "        print(\"숫자는? {0}\".format(mydice.throw())) \n",
    "\n",
    "if __name__ == '__main__':\n",
    "    main()"
   ]
  },
  {
   "cell_type": "code",
   "execution_count": null,
   "id": "ee60aec8",
   "metadata": {},
   "outputs": [],
   "source": []
  }
 ],
 "metadata": {
  "kernelspec": {
   "display_name": "Python 3 (ipykernel)",
   "language": "python",
   "name": "python3"
  },
  "language_info": {
   "codemirror_mode": {
    "name": "ipython",
    "version": 3
   },
   "file_extension": ".py",
   "mimetype": "text/x-python",
   "name": "python",
   "nbconvert_exporter": "python",
   "pygments_lexer": "ipython3",
   "version": "3.9.7"
  }
 },
 "nbformat": 4,
 "nbformat_minor": 5
}
